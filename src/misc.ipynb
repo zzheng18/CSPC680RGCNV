{
 "cells": [
  {
   "cell_type": "code",
   "execution_count": 142,
   "metadata": {},
   "outputs": [],
   "source": [
    "import numpy as np\n",
    "import pandas as pd\n",
    "import scipy.sparse as sp\n",
    "import matplotlib.pyplot as plt"
   ]
  },
  {
   "cell_type": "code",
   "execution_count": 130,
   "metadata": {},
   "outputs": [
    {
     "name": "stdout",
     "output_type": "stream",
     "text": [
      "[[0 0 0 0 0 1 1 0 1]\n",
      " [0 0 1 0 0 1 1 0 1]\n",
      " [0 0 0 0 0 1 1 0 1]\n",
      " [0 0 1 0 0 1 1 0 1]\n",
      " [0 0 0 0 0 1 1 0 1]\n",
      " [0 0 1 0 0 1 1 0 1]]\n"
     ]
    }
   ],
   "source": [
    "arr = np.array([[0, 0, 0, 0, 0, 1, 1, 0, 1],\n",
    "              [0, 0, 1, 0, 0, 1, 1, 0, 1],\n",
    "               [0, 0, 0, 0, 0, 1, 1, 0, 1],\n",
    "              [0, 0, 1, 0, 0, 1, 1, 0, 1],\n",
    "               [0, 0, 0, 0, 0, 1, 1, 0, 1],\n",
    "              [0, 0, 1, 0, 0, 1, 1, 0, 1]])\n",
    "sparseMatrix = sp.csr_matrix(arr)\n",
    "features = sparseMatrix.toarray()\n",
    "print(features)"
   ]
  },
  {
   "cell_type": "code",
   "execution_count": 134,
   "metadata": {},
   "outputs": [
    {
     "name": "stdout",
     "output_type": "stream",
     "text": [
      "[[0.    0.    0.    0.    0.    1.    0.098 0.    1.   ]\n",
      " [0.    0.    1.    0.    0.    0.87  1.    0.    1.   ]\n",
      " [0.    0.    0.12  0.    0.    1.    1.    0.    1.   ]\n",
      " [0.    0.    1.    0.    0.    1.    0.6   0.    1.   ]\n",
      " [0.    0.    0.9   0.    0.    1.    1.    0.    1.   ]\n",
      " [0.    0.    1.    0.    0.    1.    0.66  0.    1.   ]]\n"
     ]
    }
   ],
   "source": [
    "arr = np.array([[0, 0, 0, 0, 0, 1, 0.098, 0, 1],\n",
    "              [0, 0, 1, 0, 0, 0.87, 1, 0, 1],\n",
    "               [0, 0, 0.12, 0, 0, 1, 1, 0, 1],\n",
    "              [0, 0, 1, 0, 0, 1, 0.6, 0, 1],\n",
    "               [0, 0, 0.9, 0, 0, 1, 1, 0, 1],\n",
    "              [0, 0, 1, 0, 0, 1, 0.66, 0, 1]])\n",
    "sparseMatrix = sp.csr_matrix(arr)\n",
    "features = sparseMatrix.toarray()\n",
    "print(features)"
   ]
  },
  {
   "cell_type": "code",
   "execution_count": 100,
   "metadata": {
    "collapsed": true
   },
   "outputs": [
    {
     "name": "stdout",
     "output_type": "stream",
     "text": [
      "  (0, 5)\t1.0\n",
      "  (0, 6)\t0.098\n",
      "  (0, 8)\t1.0\n",
      "  (1, 2)\t1.0\n",
      "  (1, 5)\t0.87\n",
      "  (1, 6)\t1.0\n",
      "  (1, 8)\t1.0\n",
      "  (2, 2)\t0.12\n",
      "  (2, 5)\t1.0\n",
      "  (2, 6)\t1.0\n",
      "  (2, 8)\t1.0\n",
      "  (3, 2)\t1.0\n",
      "  (3, 5)\t1.0\n",
      "  (3, 6)\t0.6\n",
      "  (3, 8)\t1.0\n",
      "  (4, 2)\t0.9\n",
      "  (4, 5)\t1.0\n",
      "  (4, 6)\t1.0\n",
      "  (4, 8)\t1.0\n",
      "  (5, 2)\t1.0\n",
      "  (5, 5)\t1.0\n",
      "  (5, 6)\t0.66\n",
      "  (5, 8)\t1.0\n"
     ]
    }
   ],
   "source": [
    "print(sparseMatrix)"
   ]
  },
  {
   "cell_type": "code",
   "execution_count": 91,
   "metadata": {},
   "outputs": [],
   "source": [
    "ratio = 0.2\n",
    "pert_idx = np.random.choice(len(features), int(0.5*len(features)))"
   ]
  },
  {
   "cell_type": "code",
   "execution_count": 93,
   "metadata": {},
   "outputs": [
    {
     "data": {
      "text/plain": [
       "array([[0, 0, 0, 0, 0, 1, 1, 0, 1],\n",
       "       [0, 0, 1, 0, 0, 1, 1, 0, 1],\n",
       "       [0, 0, 0, 0, 0, 1, 1, 0, 1]])"
      ]
     },
     "execution_count": 93,
     "metadata": {},
     "output_type": "execute_result"
    }
   ],
   "source": [
    "features[pert_idx]"
   ]
  },
  {
   "cell_type": "code",
   "execution_count": 92,
   "metadata": {},
   "outputs": [
    {
     "data": {
      "text/plain": [
       "array([2, 5, 0])"
      ]
     },
     "execution_count": 92,
     "metadata": {},
     "output_type": "execute_result"
    }
   ],
   "source": [
    "pert_idx"
   ]
  },
  {
   "cell_type": "code",
   "execution_count": null,
   "metadata": {},
   "outputs": [],
   "source": []
  },
  {
   "cell_type": "code",
   "execution_count": 135,
   "metadata": {},
   "outputs": [],
   "source": [
    "ratio = 0.5\n",
    "pert_idx = np.random.choice(len(features), int(ratio*len(features)))\n",
    "perturbed = []\n",
    "for row in range(len(features)):\n",
    "    if row in pert_idx:\n",
    "        arr = features[row]\n",
    "#         flip_mask = [0]*int(0.8*len(arr)) + [1]*(len(arr)-int(0.8*len(arr)))\n",
    "#         np.random.shuffle(flip_mask)\n",
    "#         flip_mask = np.array(flip_mask, dtype=bool)\n",
    "#         np.logical_not(arr, where=flip_mask, out=arr)    \n",
    "        p_idx = np.random.choice(len(arr), int(0.2*len(arr)))\n",
    "        arr[p_idx] = 1-arr[p_idx]\n",
    "        perturbed.append(arr)\n",
    "    else:\n",
    "        arr = features[row]\n",
    "        perturbed.append(arr)"
   ]
  },
  {
   "cell_type": "code",
   "execution_count": 136,
   "metadata": {},
   "outputs": [
    {
     "name": "stdout",
     "output_type": "stream",
     "text": [
      "[array([0.   , 0.   , 1.   , 0.   , 0.   , 1.   , 0.098, 0.   , 1.   ]), array([0.  , 0.  , 1.  , 0.  , 0.  , 0.87, 1.  , 1.  , 1.  ]), array([0.  , 0.  , 0.12, 0.  , 0.  , 1.  , 0.  , 0.  , 1.  ]), array([0. , 0. , 1. , 0. , 0. , 1. , 0.6, 0. , 1. ]), array([0. , 0. , 0.9, 0. , 0. , 1. , 1. , 0. , 1. ]), array([0.  , 0.  , 1.  , 0.  , 0.  , 1.  , 0.66, 0.  , 1.  ])]\n"
     ]
    }
   ],
   "source": [
    "print(perturbed)"
   ]
  },
  {
   "cell_type": "code",
   "execution_count": 137,
   "metadata": {},
   "outputs": [
    {
     "name": "stdout",
     "output_type": "stream",
     "text": [
      "[[0.    0.    1.    0.    0.    1.    0.098 0.    1.   ]\n",
      " [0.    0.    1.    0.    0.    0.87  1.    1.    1.   ]\n",
      " [0.    0.    0.12  0.    0.    1.    0.    0.    1.   ]\n",
      " [0.    0.    1.    0.    0.    1.    0.6   0.    1.   ]\n",
      " [0.    0.    0.9   0.    0.    1.    1.    0.    1.   ]\n",
      " [0.    0.    1.    0.    0.    1.    0.66  0.    1.   ]]\n"
     ]
    }
   ],
   "source": [
    "print(sp.csr_matrix(perturbed).toarray())"
   ]
  },
  {
   "cell_type": "code",
   "execution_count": 114,
   "metadata": {},
   "outputs": [
    {
     "data": {
      "text/plain": [
       "array([0.  , 0.  , 1.  , 0.  , 0.  , 1.  , 0.66, 0.  , 1.  ])"
      ]
     },
     "execution_count": 114,
     "metadata": {},
     "output_type": "execute_result"
    }
   ],
   "source": [
    "arr"
   ]
  },
  {
   "cell_type": "code",
   "execution_count": 117,
   "metadata": {},
   "outputs": [],
   "source": [
    "flip_mask = [0]*int(0.8*len(arr)) + [1]*(len(arr)-int(0.8*len(arr)))\n",
    "np.random.shuffle(flip_mask)\n",
    "flip_mask = np.array(flip_mask, dtype=bool)"
   ]
  },
  {
   "cell_type": "code",
   "execution_count": 118,
   "metadata": {},
   "outputs": [
    {
     "data": {
      "text/plain": [
       "array([False, False, False, False,  True, False, False, False,  True])"
      ]
     },
     "execution_count": 118,
     "metadata": {},
     "output_type": "execute_result"
    }
   ],
   "source": [
    "flip_mask"
   ]
  },
  {
   "cell_type": "code",
   "execution_count": 120,
   "metadata": {},
   "outputs": [
    {
     "data": {
      "text/plain": [
       "array([1., 0.])"
      ]
     },
     "execution_count": 120,
     "metadata": {},
     "output_type": "execute_result"
    }
   ],
   "source": [
    "1-arr[flip_mask]"
   ]
  },
  {
   "cell_type": "code",
   "execution_count": 121,
   "metadata": {},
   "outputs": [],
   "source": [
    "p_idx = np.random.choice(len(arr), int(0.2*len(arr)))"
   ]
  },
  {
   "cell_type": "code",
   "execution_count": 125,
   "metadata": {},
   "outputs": [
    {
     "data": {
      "text/plain": [
       "array([5])"
      ]
     },
     "execution_count": 125,
     "metadata": {},
     "output_type": "execute_result"
    }
   ],
   "source": [
    "p_idx"
   ]
  },
  {
   "cell_type": "code",
   "execution_count": 123,
   "metadata": {},
   "outputs": [],
   "source": [
    "arr[p_idx] = 1-arr[p_idx]"
   ]
  },
  {
   "cell_type": "code",
   "execution_count": 124,
   "metadata": {},
   "outputs": [
    {
     "data": {
      "text/plain": [
       "array([0.  , 0.  , 1.  , 0.  , 0.  , 0.  , 0.66, 0.  , 1.  ])"
      ]
     },
     "execution_count": 124,
     "metadata": {},
     "output_type": "execute_result"
    }
   ],
   "source": [
    "arr"
   ]
  },
  {
   "cell_type": "code",
   "execution_count": null,
   "metadata": {},
   "outputs": [],
   "source": []
  },
  {
   "cell_type": "code",
   "execution_count": 74,
   "metadata": {},
   "outputs": [
    {
     "data": {
      "text/plain": [
       "array([0, 0, 0, 0, 0, 1, 1, 0, 1])"
      ]
     },
     "execution_count": 74,
     "metadata": {},
     "output_type": "execute_result"
    }
   ],
   "source": [
    "arr2"
   ]
  },
  {
   "cell_type": "code",
   "execution_count": 75,
   "metadata": {},
   "outputs": [
    {
     "data": {
      "text/plain": [
       "array([0, 0, 1, 0, 0, 1, 1, 1, 1])"
      ]
     },
     "execution_count": 75,
     "metadata": {},
     "output_type": "execute_result"
    }
   ],
   "source": [
    "np.logical_not(arr2, where=flip_mask, out=arr2)"
   ]
  },
  {
   "cell_type": "code",
   "execution_count": 40,
   "metadata": {},
   "outputs": [
    {
     "data": {
      "text/plain": [
       "array([0, 0, 1, 1, 0, 0, 0, 0, 0, 1])"
      ]
     },
     "execution_count": 40,
     "metadata": {},
     "output_type": "execute_result"
    }
   ],
   "source": [
    "np.random.choice([0,1], 10, 2)"
   ]
  },
  {
   "cell_type": "code",
   "execution_count": 139,
   "metadata": {},
   "outputs": [],
   "source": [
    "df = pd.read_csv('/home/zihe-leon/Downloads/680 project results - Sheet1 (1).csv')"
   ]
  },
  {
   "cell_type": "code",
   "execution_count": 140,
   "metadata": {},
   "outputs": [
    {
     "data": {
      "text/html": [
       "<div>\n",
       "<style scoped>\n",
       "    .dataframe tbody tr th:only-of-type {\n",
       "        vertical-align: middle;\n",
       "    }\n",
       "\n",
       "    .dataframe tbody tr th {\n",
       "        vertical-align: top;\n",
       "    }\n",
       "\n",
       "    .dataframe thead th {\n",
       "        text-align: right;\n",
       "    }\n",
       "</style>\n",
       "<table border=\"1\" class=\"dataframe\">\n",
       "  <thead>\n",
       "    <tr style=\"text-align: right;\">\n",
       "      <th></th>\n",
       "      <th>noise level</th>\n",
       "      <th>Cora</th>\n",
       "      <th>Citeseer</th>\n",
       "      <th>Pubmed</th>\n",
       "    </tr>\n",
       "  </thead>\n",
       "  <tbody>\n",
       "    <tr>\n",
       "      <th>0</th>\n",
       "      <td>0%</td>\n",
       "      <td>0.827</td>\n",
       "      <td>0.706</td>\n",
       "      <td>0.789</td>\n",
       "    </tr>\n",
       "    <tr>\n",
       "      <th>1</th>\n",
       "      <td>20%</td>\n",
       "      <td>0.810</td>\n",
       "      <td>0.708</td>\n",
       "      <td>0.782</td>\n",
       "    </tr>\n",
       "    <tr>\n",
       "      <th>2</th>\n",
       "      <td>40%</td>\n",
       "      <td>0.807</td>\n",
       "      <td>0.714</td>\n",
       "      <td>0.788</td>\n",
       "    </tr>\n",
       "    <tr>\n",
       "      <th>3</th>\n",
       "      <td>60%</td>\n",
       "      <td>0.794</td>\n",
       "      <td>0.699</td>\n",
       "      <td>0.756</td>\n",
       "    </tr>\n",
       "    <tr>\n",
       "      <th>4</th>\n",
       "      <td>80%</td>\n",
       "      <td>0.784</td>\n",
       "      <td>0.674</td>\n",
       "      <td>0.758</td>\n",
       "    </tr>\n",
       "    <tr>\n",
       "      <th>5</th>\n",
       "      <td>100%</td>\n",
       "      <td>0.769</td>\n",
       "      <td>0.666</td>\n",
       "      <td>0.740</td>\n",
       "    </tr>\n",
       "  </tbody>\n",
       "</table>\n",
       "</div>"
      ],
      "text/plain": [
       "  noise level   Cora  Citeseer  Pubmed\n",
       "0          0%  0.827     0.706   0.789\n",
       "1         20%  0.810     0.708   0.782\n",
       "2         40%  0.807     0.714   0.788\n",
       "3         60%  0.794     0.699   0.756\n",
       "4         80%  0.784     0.674   0.758\n",
       "5        100%  0.769     0.666   0.740"
      ]
     },
     "execution_count": 140,
     "metadata": {},
     "output_type": "execute_result"
    }
   ],
   "source": [
    "df"
   ]
  },
  {
   "cell_type": "code",
   "execution_count": 151,
   "metadata": {},
   "outputs": [
    {
     "data": {
      "text/plain": [
       "[<matplotlib.lines.Line2D at 0x7fcbfd9d14f0>]"
      ]
     },
     "execution_count": 151,
     "metadata": {},
     "output_type": "execute_result"
    },
    {
     "data": {
      "image/png": "[encoded data removed]",
      "text/plain": [
       "<Figure size 1700x500 with 3 Axes>"
      ]
     },
     "metadata": {},
     "output_type": "display_data"
    }
   ],
   "source": [
    "plt.figure(figsize = (17,5))\n",
    "plt.subplot(1,3,1)\n",
    "plt.title(\"Cora\")\n",
    "plt.xlabel('Noise Level')\n",
    "plt.ylabel('Accuracy')\n",
    "plt.plot(df['noise level'], df['Cora'])\n",
    "plt.subplot(1,3,2)\n",
    "plt.title(\"Citeseer\")\n",
    "plt.xlabel('Noise Level')\n",
    "plt.ylabel('Accuracy')\n",
    "plt.plot(df['noise level'], df['Citeseer'], color = 'red')\n",
    "plt.subplot(1,3,3)\n",
    "plt.title(\"Pubmed\")\n",
    "plt.xlabel('Noise Level')\n",
    "plt.ylabel('Accuracy')\n",
    "plt.plot(df['noise level'], df['Pubmed'], color = 'green')"
   ]
  },
  {
   "cell_type": "code",
   "execution_count": null,
   "metadata": {},
   "outputs": [],
   "source": []
  },
  {
   "cell_type": "code",
   "execution_count": 2,
   "metadata": {},
   "outputs": [],
   "source": [
    "import tensorflow as tf"
   ]
  },
  {
   "cell_type": "code",
   "execution_count": 22,
   "metadata": {},
   "outputs": [
    {
     "data": {
      "text/plain": [
       "<tf.Tensor: shape=(2, 1, 2), dtype=int32, numpy=\n",
       "array([[[3, 3]],\n",
       "\n",
       "       [[5, 5]]], dtype=int32)>"
      ]
     },
     "execution_count": 22,
     "metadata": {},
     "output_type": "execute_result"
    }
   ],
   "source": [
    "t = tf.constant([[[1, 1, 1], [2, 2, 2]],\n",
    "                 [[3, 3, 3], [4, 4, 4]],\n",
    "                 [[5, 5, 5], [6, 6, 6]]])\n",
    "tf.slice(t, [1, 0, 0], [2, 1, 2])  # [[[3, 3, 3]]]\n",
    "# tf.slice(t, [1, 0, 0], [1, 2, 3])  # [[[3, 3, 3],\n",
    "#                                    #   [4, 4, 4]]]\n",
    "# tf.slice(t, [1, 0, 0], [2, 1, 3])  # [[[3, 3, 3]],\n",
    "#                                    #  [[5, 5, 5]]]"
   ]
  },
  {
   "cell_type": "code",
   "execution_count": 72,
   "metadata": {},
   "outputs": [
    {
     "data": {
      "text/plain": [
       "[1, 0, 9]"
      ]
     },
     "execution_count": 72,
     "metadata": {},
     "output_type": "execute_result"
    }
   ],
   "source": [
    "[1]+[0, 9]"
   ]
  },
  {
   "cell_type": "code",
   "execution_count": 32,
   "metadata": {},
   "outputs": [
    {
     "name": "stderr",
     "output_type": "stream",
     "text": [
      "/home/zihe-leon/Desktop/RobustGCN-master/src/utils.py:52: FutureWarning: adjacency_matrix will return a scipy.sparse array instead of a matrix in Networkx 3.0.\n",
      "  adj = nx.adjacency_matrix(nx.from_dict_of_lists(graph))\n"
     ]
    }
   ],
   "source": [
    "import time\n",
    "import tensorflow.compat.v1 as tf\n",
    "tf.disable_eager_execution()\n",
    "from utils import *\n",
    "from models import RGCN\n",
    "import random\n",
    "# Set random seed\n",
    "seed = 123\n",
    "np.random.seed(seed)\n",
    "tf.set_random_seed(seed)\n",
    "random.seed(seed)\n",
    "\n",
    "adj, features, y_train, y_val, y_test, train_mask, val_mask, test_mask, label = load_data('cora')"
   ]
  },
  {
   "cell_type": "code",
   "execution_count": 44,
   "metadata": {},
   "outputs": [],
   "source": [
    "train_mask[641:1706] = True"
   ]
  },
  {
   "cell_type": "code",
   "execution_count": null,
   "metadata": {},
   "outputs": [],
   "source": []
  },
  {
   "cell_type": "code",
   "execution_count": 45,
   "metadata": {},
   "outputs": [
    {
     "data": {
      "text/plain": [
       "(1205,)"
      ]
     },
     "execution_count": 45,
     "metadata": {},
     "output_type": "execute_result"
    }
   ],
   "source": [
    "train_mask[train_mask==True].shape"
   ]
  },
  {
   "cell_type": "code",
   "execution_count": 34,
   "metadata": {},
   "outputs": [
    {
     "data": {
      "text/plain": [
       "(500,)"
      ]
     },
     "execution_count": 34,
     "metadata": {},
     "output_type": "execute_result"
    }
   ],
   "source": [
    "val_mask[val_mask==True].shape"
   ]
  },
  {
   "cell_type": "code",
   "execution_count": 35,
   "metadata": {},
   "outputs": [
    {
     "data": {
      "text/plain": [
       "(1000,)"
      ]
     },
     "execution_count": 35,
     "metadata": {},
     "output_type": "execute_result"
    }
   ],
   "source": [
    "test_mask[test_mask==True].shape"
   ]
  },
  {
   "cell_type": "code",
   "execution_count": 38,
   "metadata": {},
   "outputs": [],
   "source": [
    "gpc_idx = []\n",
    "for idx in range(2708):\n",
    "    if not (train_mask[idx] or test_mask[idx] or val_mask[idx]):\n",
    "        gpc_idx.append(idx)"
   ]
  },
  {
   "cell_type": "code",
   "execution_count": 42,
   "metadata": {},
   "outputs": [
    {
     "data": {
      "text/plain": [
       "1707"
      ]
     },
     "execution_count": 42,
     "metadata": {},
     "output_type": "execute_result"
    }
   ],
   "source": [
    "gpc_idx[-1]"
   ]
  },
  {
   "cell_type": "markdown",
   "metadata": {},
   "source": [
    "## GPC"
   ]
  },
  {
   "cell_type": "code",
   "execution_count": 1,
   "metadata": {},
   "outputs": [],
   "source": [
    "import numpy as np\n",
    "import pandas as pd\n",
    "import scipy.sparse as sp\n",
    "import matplotlib.pyplot as plt\n",
    "from sklearn.datasets import load_iris\n",
    "from sklearn.gaussian_process import GaussianProcessClassifier\n",
    "from sklearn.gaussian_process.kernels import RBF"
   ]
  },
  {
   "cell_type": "code",
   "execution_count": 48,
   "metadata": {},
   "outputs": [
    {
     "data": {
      "text/plain": [
       "array([0, 0])"
      ]
     },
     "execution_count": 48,
     "metadata": {},
     "output_type": "execute_result"
    }
   ],
   "source": [
    "from sklearn.datasets import load_iris\n",
    "from sklearn.gaussian_process import GaussianProcessClassifier\n",
    "from sklearn.gaussian_process.kernels import RBF\n",
    "X, y = load_iris(return_X_y=True)\n",
    "kernel = 1.0 * RBF(1.0)\n",
    "gpc = GaussianProcessClassifier(kernel=kernel,\n",
    "        random_state=0).fit(X, y)\n",
    "gpc.score(X, y)\n",
    "\n",
    "gpc.predict(X[:2,:])"
   ]
  },
  {
   "cell_type": "code",
   "execution_count": 42,
   "metadata": {},
   "outputs": [],
   "source": [
    "def perturb_features(features, ratio):\n",
    "    features = features.toarray()\n",
    "    y_train_gpc = [0]*features.shape[0]\n",
    "    pert_idx = np.random.choice(len(features), int(ratio*len(features)))\n",
    "    perturbed = []\n",
    "    for row in range(len(features)):\n",
    "        if row in pert_idx:\n",
    "            y_train_gpc[row] = 1\n",
    "            arr = features[row]\n",
    "            # flip_mask = [0]*int(0.8*len(arr)) + [1]*(len(arr)-int(0.8*len(arr)))\n",
    "            # np.random.shuffle(flip_mask)\n",
    "            # flip_mask = np.array(flip_mask, dtype=bool)\n",
    "            p_idx = np.random.choice(len(arr), int(0.8*len(arr)))\n",
    "            arr[p_idx] = 1-arr[p_idx]\n",
    "            # np.logical_not(arr, where=flip_mask, out=arr)    \n",
    "            perturbed.append(arr)\n",
    "        else:\n",
    "            arr = features[row]\n",
    "            perturbed.append(arr)\n",
    "    # perturbed_features = sp.csr_matrix(perturbed)\n",
    "    return perturbed, y_train_gpc"
   ]
  },
  {
   "cell_type": "code",
   "execution_count": null,
   "metadata": {},
   "outputs": [],
   "source": [
    "def get_gpc_train_data(perturbed_features, y_train_gpc):\n",
    "    # input all perturbed features, and all gpc label (whether perturbed)\n",
    "    # return index, feature and labels used for gpc training\n",
    "    gpc_idx = []\n",
    "    gpc_feature = []\n",
    "    gpc_y_train_gpc = []\n",
    "    for idx in range(len(perturbed_features)):\n",
    "        if train_mask[idx]:\n",
    "            if np.random.random()>0.8:\n",
    "                gpc_idx.append(idx)\n",
    "                gpc_feature.append(perturbed_features[idx])\n",
    "                gpc_y_train_gpc.append(y_train_gpc[idx])\n",
    "\n",
    "    return gpc_idx, gpc_feature, gpc_y_train_gpc"
   ]
  },
  {
   "cell_type": "code",
   "execution_count": 11,
   "metadata": {},
   "outputs": [
    {
     "name": "stderr",
     "output_type": "stream",
     "text": [
      "/home/zihe-leon/Desktop/RobustGCN-master/src/utils.py:52: FutureWarning: adjacency_matrix will return a scipy.sparse array instead of a matrix in Networkx 3.0.\n",
      "  adj = nx.adjacency_matrix(nx.from_dict_of_lists(graph))\n"
     ]
    },
    {
     "ename": "ValueError",
     "evalue": "too many values to unpack (expected 2)",
     "output_type": "error",
     "traceback": [
      "\u001b[0;31m---------------------------------------------------------------------------\u001b[0m",
      "\u001b[0;31mValueError\u001b[0m                                Traceback (most recent call last)",
      "\u001b[1;32m/home/zihe-leon/Desktop/RobustGCN-master/src/misc.ipynb Cell 36\u001b[0m in \u001b[0;36m<cell line: 31>\u001b[0;34m()\u001b[0m\n\u001b[1;32m     <a href='vscode-notebook-cell:/home/zihe-leon/Desktop/RobustGCN-master/src/misc.ipynb#X50sZmlsZQ%3D%3D?line=26'>27</a>\u001b[0m adj, features, y_train, y_val, y_test, train_mask, val_mask, test_mask, label \u001b[39m=\u001b[39m load_data(\u001b[39m'\u001b[39m\u001b[39mcora\u001b[39m\u001b[39m'\u001b[39m)\n\u001b[1;32m     <a href='vscode-notebook-cell:/home/zihe-leon/Desktop/RobustGCN-master/src/misc.ipynb#X50sZmlsZQ%3D%3D?line=29'>30</a>\u001b[0m \u001b[39m# add noise to the data\u001b[39;00m\n\u001b[0;32m---> <a href='vscode-notebook-cell:/home/zihe-leon/Desktop/RobustGCN-master/src/misc.ipynb#X50sZmlsZQ%3D%3D?line=30'>31</a>\u001b[0m perturbed_features, y_train_gpc \u001b[39m=\u001b[39m perturb_features(features, \u001b[39m0.2\u001b[39m)\n\u001b[1;32m     <a href='vscode-notebook-cell:/home/zihe-leon/Desktop/RobustGCN-master/src/misc.ipynb#X50sZmlsZQ%3D%3D?line=31'>32</a>\u001b[0m gpc_idx, gpc_feature, gpc_y_train_gpc \u001b[39m=\u001b[39m get_gpc_train_data(perturbed_features, y_train_gpc)\n\u001b[1;32m     <a href='vscode-notebook-cell:/home/zihe-leon/Desktop/RobustGCN-master/src/misc.ipynb#X50sZmlsZQ%3D%3D?line=33'>34</a>\u001b[0m kernel \u001b[39m=\u001b[39m \u001b[39m1.0\u001b[39m \u001b[39m*\u001b[39m RBF(\u001b[39m1.0\u001b[39m)\n",
      "\u001b[0;31mValueError\u001b[0m: too many values to unpack (expected 2)"
     ]
    }
   ],
   "source": [
    "import time\n",
    "import tensorflow.compat.v1 as tf\n",
    "tf.disable_eager_execution()\n",
    "from utils import *\n",
    "from models import RGCN\n",
    "import random\n",
    "# Set random seed\n",
    "seed = 123\n",
    "np.random.seed(seed)\n",
    "tf.set_random_seed(seed)\n",
    "random.seed(seed)\n",
    "\n",
    "# Settings\n",
    "# flags = tf.app.flags\n",
    "# FLAGS = flags.FLAGS\n",
    "# flags.DEFINE_string('dataset', 'cora', 'Dataset string.')  # 'cora', 'citeseer', 'pubmed'\n",
    "# flags.DEFINE_float('learning_rate', 0.01, 'Initial learning rate.')\n",
    "# flags.DEFINE_integer('epochs', 200, 'Number of epochs to train.')\n",
    "# flags.DEFINE_integer('hidden', 32, 'Number of units in hidden layer.')\n",
    "# flags.DEFINE_float('dropout', 0.6, 'Dropout rate (1 - keep probability).')\n",
    "# flags.DEFINE_float('para_var', 1, 'Parameter of variance-based attention')\n",
    "# flags.DEFINE_float('para_kl', 5e-4, 'Parameter of kl regularization')\n",
    "# flags.DEFINE_float('para_l2', 5e-4, 'Parameter for l2 loss.')\n",
    "# flags.DEFINE_integer('early_stopping', 20, 'Tolerance for early stopping (# of epochs).')\n",
    "\n",
    "# Load data\n",
    "adj, features, y_train, y_val, y_test, train_mask, val_mask, test_mask, label = load_data('cora')\n",
    "\n",
    "\n",
    "# add noise to the data\n",
    "perturbed_features, y_train_gpc = perturb_features(features, 0.2)\n",
    "gpc_idx, gpc_feature, gpc_y_train_gpc = get_gpc_train_data(perturbed_features, y_train_gpc)\n",
    "\n",
    "kernel = 1.0 * RBF(1.0)\n",
    "gpc = GaussianProcessClassifier(kernel=kernel,\n",
    "        random_state=0).fit(gpc_feature, gpc_y_train_gpc)\n",
    "gpc.score(perturbed_features, y_train_gpc)\n",
    "gpc_res = gpc.predict(perturbed_features)\n",
    "gpc_predict_pert_idx = [i for i, x in enumerate(gpc_res==1) if x]\n",
    "# features = preprocess_features(features)"
   ]
  },
  {
   "cell_type": "code",
   "execution_count": 60,
   "metadata": {},
   "outputs": [],
   "source": [
    "all_index = list(range(len(y_train)))"
   ]
  },
  {
   "cell_type": "code",
   "execution_count": 64,
   "metadata": {},
   "outputs": [
    {
     "data": {
      "text/plain": [
       "array([False,  True, False, ..., False,  True, False])"
      ]
     },
     "execution_count": 64,
     "metadata": {},
     "output_type": "execute_result"
    }
   ],
   "source": [
    "gpc_res==1"
   ]
  },
  {
   "cell_type": "code",
   "execution_count": 66,
   "metadata": {},
   "outputs": [],
   "source": []
  },
  {
   "cell_type": "code",
   "execution_count": 68,
   "metadata": {},
   "outputs": [
    {
     "data": {
      "text/plain": [
       "496"
      ]
     },
     "execution_count": 68,
     "metadata": {},
     "output_type": "execute_result"
    }
   ],
   "source": [
    "len(gpc_predict_pert_idx)"
   ]
  },
  {
   "cell_type": "code",
   "execution_count": 62,
   "metadata": {},
   "outputs": [
    {
     "ename": "TypeError",
     "evalue": "only integer scalar arrays can be converted to a scalar index",
     "output_type": "error",
     "traceback": [
      "\u001b[0;31m---------------------------------------------------------------------------\u001b[0m",
      "\u001b[0;31mTypeError\u001b[0m                                 Traceback (most recent call last)",
      "\u001b[1;32m/home/zihe-leon/Desktop/RobustGCN-master/src/misc.ipynb Cell 38\u001b[0m in \u001b[0;36m<cell line: 1>\u001b[0;34m()\u001b[0m\n\u001b[0;32m----> <a href='vscode-notebook-cell:/home/zihe-leon/Desktop/RobustGCN-master/src/misc.ipynb#Y156sZmlsZQ%3D%3D?line=0'>1</a>\u001b[0m all_index[gpc_res\u001b[39m==\u001b[39;49m\u001b[39m1\u001b[39;49m]\n",
      "\u001b[0;31mTypeError\u001b[0m: only integer scalar arrays can be converted to a scalar index"
     ]
    }
   ],
   "source": [
    "all_index[gpc_res==1]"
   ]
  },
  {
   "cell_type": "code",
   "execution_count": 55,
   "metadata": {},
   "outputs": [
    {
     "data": {
      "text/plain": [
       "2708"
      ]
     },
     "execution_count": 55,
     "metadata": {},
     "output_type": "execute_result"
    }
   ],
   "source": [
    "len(gpc_res)"
   ]
  },
  {
   "cell_type": "code",
   "execution_count": 43,
   "metadata": {},
   "outputs": [],
   "source": []
  },
  {
   "cell_type": "code",
   "execution_count": null,
   "metadata": {},
   "outputs": [],
   "source": [
    "gpc_idx = np.random.choice(len(features), int(ratio*len(features)))"
   ]
  },
  {
   "cell_type": "code",
   "execution_count": 30,
   "metadata": {},
   "outputs": [
    {
     "data": {
      "text/plain": [
       "0.2892089673064546"
      ]
     },
     "execution_count": 30,
     "metadata": {},
     "output_type": "execute_result"
    }
   ],
   "source": [
    "np.random.random()"
   ]
  },
  {
   "cell_type": "code",
   "execution_count": 52,
   "metadata": {},
   "outputs": [
    {
     "data": {
      "text/plain": [
       "array([ True,  True,  True, ..., False, False, False])"
      ]
     },
     "execution_count": 52,
     "metadata": {},
     "output_type": "execute_result"
    }
   ],
   "source": [
    "for i in len(train_mask):\n",
    "    if train_mask[i]"
   ]
  },
  {
   "cell_type": "code",
   "execution_count": 53,
   "metadata": {},
   "outputs": [
    {
     "data": {
      "text/plain": [
       "array([False, False, False, ..., False, False, False])"
      ]
     },
     "execution_count": 53,
     "metadata": {},
     "output_type": "execute_result"
    }
   ],
   "source": [
    "val_mask"
   ]
  },
  {
   "cell_type": "code",
   "execution_count": 54,
   "metadata": {},
   "outputs": [
    {
     "data": {
      "text/plain": [
       "array([False, False, False, ...,  True,  True,  True])"
      ]
     },
     "execution_count": 54,
     "metadata": {},
     "output_type": "execute_result"
    }
   ],
   "source": [
    "test_mask"
   ]
  },
  {
   "cell_type": "code",
   "execution_count": 47,
   "metadata": {},
   "outputs": [
    {
     "data": {
      "text/plain": [
       "140"
      ]
     },
     "execution_count": 47,
     "metadata": {},
     "output_type": "execute_result"
    }
   ],
   "source": [
    "len(train_mask[train_mask==True])"
   ]
  },
  {
   "cell_type": "code",
   "execution_count": 48,
   "metadata": {},
   "outputs": [
    {
     "data": {
      "text/plain": [
       "500"
      ]
     },
     "execution_count": 48,
     "metadata": {},
     "output_type": "execute_result"
    }
   ],
   "source": [
    "len(val_mask[val_mask==True])"
   ]
  },
  {
   "cell_type": "code",
   "execution_count": 49,
   "metadata": {},
   "outputs": [
    {
     "data": {
      "text/plain": [
       "1000"
      ]
     },
     "execution_count": 49,
     "metadata": {},
     "output_type": "execute_result"
    }
   ],
   "source": [
    "len(test_mask[test_mask==True])"
   ]
  },
  {
   "cell_type": "code",
   "execution_count": 13,
   "metadata": {},
   "outputs": [
    {
     "data": {
      "text/plain": [
       "1.0"
      ]
     },
     "execution_count": 13,
     "metadata": {},
     "output_type": "execute_result"
    }
   ],
   "source": [
    "kernel = 1.0 * RBF(1.0)\n",
    "gpc = GaussianProcessClassifier(kernel=kernel,\n",
    "        random_state=0).fit(features, y_train)\n",
    "gpc.score(features, y_train)\n",
    "\n",
    "# gpc.predict_proba(X[:2,:])"
   ]
  },
  {
   "cell_type": "code",
   "execution_count": null,
   "metadata": {},
   "outputs": [],
   "source": [
    "pd.to_csv()"
   ]
  },
  {
   "cell_type": "code",
   "execution_count": null,
   "metadata": {},
   "outputs": [],
   "source": []
  },
  {
   "cell_type": "code",
   "execution_count": 21,
   "metadata": {},
   "outputs": [
    {
     "data": {
      "text/plain": [
       "2708"
      ]
     },
     "execution_count": 21,
     "metadata": {},
     "output_type": "execute_result"
    }
   ],
   "source": [
    "len(y_train)"
   ]
  },
  {
   "cell_type": "code",
   "execution_count": 22,
   "metadata": {},
   "outputs": [
    {
     "data": {
      "text/plain": [
       "(2708, 1433)"
      ]
     },
     "execution_count": 22,
     "metadata": {},
     "output_type": "execute_result"
    }
   ],
   "source": [
    "features.shape"
   ]
  },
  {
   "cell_type": "code",
   "execution_count": 9,
   "metadata": {},
   "outputs": [
    {
     "data": {
      "text/plain": [
       "array([[0., 0., 0., ..., 0., 1., 1.],\n",
       "       [0., 0., 0., ..., 1., 0., 0.],\n",
       "       [0., 0., 0., ..., 0., 0., 0.],\n",
       "       ...,\n",
       "       [0., 0., 0., ..., 0., 0., 0.],\n",
       "       [0., 0., 0., ..., 1., 0., 0.],\n",
       "       [0., 0., 0., ..., 0., 0., 0.]], dtype=float32)"
      ]
     },
     "execution_count": 9,
     "metadata": {},
     "output_type": "execute_result"
    }
   ],
   "source": [
    "features.toarray()"
   ]
  },
  {
   "cell_type": "code",
   "execution_count": 6,
   "metadata": {},
   "outputs": [],
   "source": [
    "arr = [0]*5"
   ]
  },
  {
   "cell_type": "code",
   "execution_count": 11,
   "metadata": {},
   "outputs": [
    {
     "ename": "SyntaxError",
     "evalue": "invalid syntax (3349921199.py, line 1)",
     "output_type": "error",
     "traceback": [
      "\u001b[0;36m  Input \u001b[0;32mIn [11]\u001b[0;36m\u001b[0m\n\u001b[0;31m    arr[[] = 1\u001b[0m\n\u001b[0m           ^\u001b[0m\n\u001b[0;31mSyntaxError\u001b[0m\u001b[0;31m:\u001b[0m invalid syntax\n"
     ]
    }
   ],
   "source": [
    "arr[1] = 1"
   ]
  },
  {
   "cell_type": "code",
   "execution_count": 8,
   "metadata": {},
   "outputs": [
    {
     "data": {
      "text/plain": [
       "[0, 1, 0, 0, 0]"
      ]
     },
     "execution_count": 8,
     "metadata": {},
     "output_type": "execute_result"
    }
   ],
   "source": [
    "arr"
   ]
  },
  {
   "cell_type": "code",
   "execution_count": 1,
   "metadata": {},
   "outputs": [
    {
     "name": "stderr",
     "output_type": "stream",
     "text": [
      "2023-04-08 13:38:40.018975: I tensorflow/core/platform/cpu_feature_guard.cc:193] This TensorFlow binary is optimized with oneAPI Deep Neural Network Library (oneDNN) to use the following CPU instructions in performance-critical operations:  AVX2 FMA\n",
      "To enable them in other operations, rebuild TensorFlow with the appropriate compiler flags.\n",
      "2023-04-08 13:38:40.329766: E tensorflow/stream_executor/cuda/cuda_blas.cc:2981] Unable to register cuBLAS factory: Attempting to register factory for plugin cuBLAS when one has already been registered\n",
      "2023-04-08 13:38:41.089091: W tensorflow/stream_executor/platform/default/dso_loader.cc:64] Could not load dynamic library 'libnvinfer.so.7'; dlerror: libnvinfer.so.7: cannot open shared object file: No such file or directory; LD_LIBRARY_PATH: :/home/zihe-leon/anaconda3/envs/gcn3/lib/\n",
      "2023-04-08 13:38:41.089185: W tensorflow/stream_executor/platform/default/dso_loader.cc:64] Could not load dynamic library 'libnvinfer_plugin.so.7'; dlerror: libnvinfer_plugin.so.7: cannot open shared object file: No such file or directory; LD_LIBRARY_PATH: :/home/zihe-leon/anaconda3/envs/gcn3/lib/\n",
      "2023-04-08 13:38:41.089194: W tensorflow/compiler/tf2tensorrt/utils/py_utils.cc:38] TF-TRT Warning: Cannot dlopen some TensorRT libraries. If you would like to use Nvidia GPU with TensorRT, please make sure the missing libraries mentioned above are installed properly.\n"
     ]
    },
    {
     "name": "stdout",
     "output_type": "stream",
     "text": [
      "[0 1 2 ... 7 8 9]\n"
     ]
    },
    {
     "name": "stderr",
     "output_type": "stream",
     "text": [
      "2023-04-08 13:38:42.089738: E tensorflow/stream_executor/cuda/cuda_driver.cc:265] failed call to cuInit: CUDA_ERROR_COMPAT_NOT_SUPPORTED_ON_DEVICE: forward compatibility was attempted on non supported HW\n",
      "2023-04-08 13:38:42.089774: I tensorflow/stream_executor/cuda/cuda_diagnostics.cc:169] retrieving CUDA diagnostic information for host: zihe-leon\n",
      "2023-04-08 13:38:42.089782: I tensorflow/stream_executor/cuda/cuda_diagnostics.cc:176] hostname: zihe-leon\n",
      "2023-04-08 13:38:42.089863: I tensorflow/stream_executor/cuda/cuda_diagnostics.cc:200] libcuda reported version is: 515.105.1\n",
      "2023-04-08 13:38:42.089883: I tensorflow/stream_executor/cuda/cuda_diagnostics.cc:204] kernel reported version is: 515.86.1\n",
      "2023-04-08 13:38:42.089890: E tensorflow/stream_executor/cuda/cuda_diagnostics.cc:313] kernel version 515.86.1 does not match DSO version 515.105.1 -- cannot find working devices in this configuration\n",
      "2023-04-08 13:38:42.091520: I tensorflow/core/platform/cpu_feature_guard.cc:193] This TensorFlow binary is optimized with oneAPI Deep Neural Network Library (oneDNN) to use the following CPU instructions in performance-critical operations:  AVX2 FMA\n",
      "To enable them in other operations, rebuild TensorFlow with the appropriate compiler flags.\n"
     ]
    }
   ],
   "source": [
    "import tensorflow as tf\n",
    "tf.compat.v1.enable_eager_execution()\n",
    "tensor = tf.range(10)\n",
    "tf.print(tensor)"
   ]
  },
  {
   "cell_type": "code",
   "execution_count": 1,
   "metadata": {},
   "outputs": [
    {
     "name": "stderr",
     "output_type": "stream",
     "text": [
      "2023-04-08 14:39:28.855162: I tensorflow/core/platform/cpu_feature_guard.cc:193] This TensorFlow binary is optimized with oneAPI Deep Neural Network Library (oneDNN) to use the following CPU instructions in performance-critical operations:  AVX2 FMA\n",
      "To enable them in other operations, rebuild TensorFlow with the appropriate compiler flags.\n",
      "2023-04-08 14:39:28.968971: E tensorflow/stream_executor/cuda/cuda_blas.cc:2981] Unable to register cuBLAS factory: Attempting to register factory for plugin cuBLAS when one has already been registered\n",
      "2023-04-08 14:39:29.451351: W tensorflow/stream_executor/platform/default/dso_loader.cc:64] Could not load dynamic library 'libnvinfer.so.7'; dlerror: libnvinfer.so.7: cannot open shared object file: No such file or directory; LD_LIBRARY_PATH: :/home/zihe-leon/anaconda3/envs/gcn3/lib/\n",
      "2023-04-08 14:39:29.451401: W tensorflow/stream_executor/platform/default/dso_loader.cc:64] Could not load dynamic library 'libnvinfer_plugin.so.7'; dlerror: libnvinfer_plugin.so.7: cannot open shared object file: No such file or directory; LD_LIBRARY_PATH: :/home/zihe-leon/anaconda3/envs/gcn3/lib/\n",
      "2023-04-08 14:39:29.451406: W tensorflow/compiler/tf2tensorrt/utils/py_utils.cc:38] TF-TRT Warning: Cannot dlopen some TensorRT libraries. If you would like to use Nvidia GPU with TensorRT, please make sure the missing libraries mentioned above are installed properly.\n",
      "2023-04-08 14:39:29.989372: E tensorflow/stream_executor/cuda/cuda_driver.cc:265] failed call to cuInit: CUDA_ERROR_COMPAT_NOT_SUPPORTED_ON_DEVICE: forward compatibility was attempted on non supported HW\n",
      "2023-04-08 14:39:29.989406: I tensorflow/stream_executor/cuda/cuda_diagnostics.cc:169] retrieving CUDA diagnostic information for host: zihe-leon\n",
      "2023-04-08 14:39:29.989414: I tensorflow/stream_executor/cuda/cuda_diagnostics.cc:176] hostname: zihe-leon\n",
      "2023-04-08 14:39:29.989497: I tensorflow/stream_executor/cuda/cuda_diagnostics.cc:200] libcuda reported version is: 515.105.1\n",
      "2023-04-08 14:39:29.989518: I tensorflow/stream_executor/cuda/cuda_diagnostics.cc:204] kernel reported version is: 515.86.1\n",
      "2023-04-08 14:39:29.989525: E tensorflow/stream_executor/cuda/cuda_diagnostics.cc:313] kernel version 515.86.1 does not match DSO version 515.105.1 -- cannot find working devices in this configuration\n",
      "2023-04-08 14:39:29.989805: I tensorflow/core/platform/cpu_feature_guard.cc:193] This TensorFlow binary is optimized with oneAPI Deep Neural Network Library (oneDNN) to use the following CPU instructions in performance-critical operations:  AVX2 FMA\n",
      "To enable them in other operations, rebuild TensorFlow with the appropriate compiler flags.\n"
     ]
    }
   ],
   "source": [
    "import tensorflow as tf\n",
    "import numpy as np\n",
    "tensor = tf.constant(np.arange(1, 5, dtype=np.int32), shape=[2, 2])\n",
    "tensor2  = tf.constant(np.arange(1, 5, dtype=np.int32), shape=[2, 2])\n"
   ]
  },
  {
   "cell_type": "code",
   "execution_count": 2,
   "metadata": {},
   "outputs": [
    {
     "data": {
      "text/plain": [
       "<tf.Tensor: shape=(2, 2), dtype=int32, numpy=\n",
       "array([[1, 2],\n",
       "       [3, 4]], dtype=int32)>"
      ]
     },
     "execution_count": 2,
     "metadata": {},
     "output_type": "execute_result"
    }
   ],
   "source": [
    "tensor"
   ]
  },
  {
   "cell_type": "code",
   "execution_count": 3,
   "metadata": {},
   "outputs": [
    {
     "data": {
      "text/plain": [
       "<tf.Tensor: shape=(2, 2), dtype=int32, numpy=\n",
       "array([[1, 2],\n",
       "       [3, 4]], dtype=int32)>"
      ]
     },
     "execution_count": 3,
     "metadata": {},
     "output_type": "execute_result"
    }
   ],
   "source": [
    "tensor2"
   ]
  },
  {
   "cell_type": "code",
   "execution_count": 4,
   "metadata": {},
   "outputs": [
    {
     "data": {
      "text/plain": [
       "tensorflow.python.framework.ops.EagerTensor"
      ]
     },
     "execution_count": 4,
     "metadata": {},
     "output_type": "execute_result"
    }
   ],
   "source": [
    "def dot(x, y, sparse=False):\n",
    "\n",
    "    if sparse:\n",
    "        res = tf.sparse_tensor_dense_matmul(x, y)\n",
    "    else:\n",
    "        res = tf.matmul(x, y)\n",
    "    return res\n",
    "type(tf.nn.relu(dot(tensor, tensor2)))"
   ]
  },
  {
   "cell_type": "markdown",
   "metadata": {},
   "source": [
    "## Variance threshold"
   ]
  },
  {
   "cell_type": "code",
   "execution_count": 39,
   "metadata": {},
   "outputs": [],
   "source": [
    "import numpy as np\n",
    "import pandas as pd\n",
    "import scipy.sparse as sp\n",
    "import matplotlib.pyplot as plt"
   ]
  },
  {
   "cell_type": "code",
   "execution_count": 40,
   "metadata": {},
   "outputs": [
    {
     "data": {
      "text/plain": [
       "(array([1.5000e+01, 1.6800e+02, 9.7500e+02, 5.3460e+03, 1.0528e+04,\n",
       "        1.8720e+03, 6.4400e+02, 1.3900e+02, 2.5000e+01, 5.0000e+00]),\n",
       " array([0.0302128 , 0.08247123, 0.13472966, 0.18698809, 0.23924652,\n",
       "        0.29150495, 0.34376338, 0.3960218 , 0.44828023, 0.50053866,\n",
       "        0.55279709]),\n",
       " <BarContainer object of 10 artists>)"
      ]
     },
     "execution_count": 40,
     "metadata": {},
     "output_type": "execute_result"
    },
    {
     "data": {
      "image/png": "[encoded data removed]",
      "text/plain": [
       "<Figure size 640x480 with 1 Axes>"
      ]
     },
     "metadata": {},
     "output_type": "display_data"
    }
   ],
   "source": [
    "var0 = pd.read_csv('var0.csv')\n",
    "var0['mean'] = var0.mean(axis=1)\n",
    "plt.hist(var0['mean'])"
   ]
  },
  {
   "cell_type": "code",
   "execution_count": 41,
   "metadata": {},
   "outputs": [
    {
     "data": {
      "text/plain": [
       "(19717, 17)"
      ]
     },
     "execution_count": 41,
     "metadata": {},
     "output_type": "execute_result"
    }
   ],
   "source": [
    "var0.shape"
   ]
  },
  {
   "cell_type": "code",
   "execution_count": 42,
   "metadata": {},
   "outputs": [],
   "source": [
    "perturbed_idx = np.load('/home/zihe-leon/Desktop/RobustGCN-master/perturbed_idx.npy')\n",
    "perturbed = [False]*var0.shape[0]\n",
    "for i in range(len(perturbed)):\n",
    "    if i in perturbed_idx:\n",
    "        perturbed[i] = True\n",
    "var0['Perturbed'] = perturbed"
   ]
  },
  {
   "cell_type": "code",
   "execution_count": 43,
   "metadata": {},
   "outputs": [],
   "source": [
    "# var0"
   ]
  },
  {
   "cell_type": "code",
   "execution_count": 44,
   "metadata": {},
   "outputs": [
    {
     "data": {
      "text/plain": [
       "(10938,)"
      ]
     },
     "execution_count": 44,
     "metadata": {},
     "output_type": "execute_result"
    }
   ],
   "source": [
    "var0[var0['Perturbed']==True]['mean'].shape"
   ]
  },
  {
   "cell_type": "code",
   "execution_count": 45,
   "metadata": {},
   "outputs": [
    {
     "data": {
      "text/plain": [
       "(8779,)"
      ]
     },
     "execution_count": 45,
     "metadata": {},
     "output_type": "execute_result"
    }
   ],
   "source": [
    "var0[var0['Perturbed']==False]['mean'].shape"
   ]
  },
  {
   "cell_type": "code",
   "execution_count": 46,
   "metadata": {},
   "outputs": [
    {
     "data": {
      "text/plain": [
       "(array([  14.,  119.,  605., 1879., 3173., 2969., 1621.,  481.,   71.,\n",
       "           6.]),\n",
       " array([0.17962833, 0.19394835, 0.20826837, 0.2225884 , 0.23690842,\n",
       "        0.25122844, 0.26554846, 0.27986848, 0.2941885 , 0.30850852,\n",
       "        0.32282855]),\n",
       " <BarContainer object of 10 artists>)"
      ]
     },
     "execution_count": 46,
     "metadata": {},
     "output_type": "execute_result"
    },
    {
     "data": {
      "image/png": "[encoded data removed]",
      "text/plain": [
       "<Figure size 640x480 with 1 Axes>"
      ]
     },
     "metadata": {},
     "output_type": "display_data"
    }
   ],
   "source": [
    "plt.hist(var0[var0['Perturbed']==True]['mean'])"
   ]
  },
  {
   "cell_type": "code",
   "execution_count": 47,
   "metadata": {},
   "outputs": [
    {
     "data": {
      "text/plain": [
       "(array([  15.,  168.,  971., 2282., 2785., 1745.,  644.,  139.,   25.,\n",
       "           5.]),\n",
       " array([0.0302128 , 0.08247123, 0.13472966, 0.18698809, 0.23924652,\n",
       "        0.29150495, 0.34376338, 0.3960218 , 0.44828023, 0.50053866,\n",
       "        0.55279709]),\n",
       " <BarContainer object of 10 artists>)"
      ]
     },
     "execution_count": 47,
     "metadata": {},
     "output_type": "execute_result"
    },
    {
     "data": {
      "image/png": "[encoded data removed]",
      "text/plain": [
       "<Figure size 640x480 with 1 Axes>"
      ]
     },
     "metadata": {},
     "output_type": "display_data"
    }
   ],
   "source": [
    "plt.hist(var0[var0['Perturbed']==False]['mean'])"
   ]
  },
  {
   "cell_type": "code",
   "execution_count": 48,
   "metadata": {},
   "outputs": [
    {
     "data": {
      "text/plain": [
       "<matplotlib.legend.Legend at 0x7f33a2b61f10>"
      ]
     },
     "execution_count": 48,
     "metadata": {},
     "output_type": "execute_result"
    },
    {
     "data": {
      "image/png": "[encoded data removed]",
      "text/plain": [
       "<Figure size 640x480 with 1 Axes>"
      ]
     },
     "metadata": {},
     "output_type": "display_data"
    }
   ],
   "source": [
    "plt.title(\"Distrbution of Variances Pubmed (delta = 0.8, sigma = 0.8)\")\n",
    "plt.xlabel('Mean variance of each node')\n",
    "plt.ylabel('Frequency')\n",
    "_, bins, _ = plt.hist(var0['mean'], label='total', alpha = 0.5, bins = 25)\n",
    "plt.hist(var0[var0['Perturbed']==True]['mean'], color='red', label='perturbed', alpha = 0.5, bins = bins)\n",
    "plt.hist(var0[var0['Perturbed']==False]['mean'], color='green', label='normal', alpha = 0.5, bins = bins)\n",
    "plt.legend(loc='upper right')"
   ]
  },
  {
   "cell_type": "code",
   "execution_count": 23,
   "metadata": {},
   "outputs": [
    {
     "data": {
      "text/plain": [
       "0.328183829375"
      ]
     },
     "execution_count": 23,
     "metadata": {},
     "output_type": "execute_result"
    }
   ],
   "source": [
    "var0['mean'][0]"
   ]
  },
  {
   "cell_type": "code",
   "execution_count": 49,
   "metadata": {},
   "outputs": [],
   "source": [
    "low_var_idx = []\n",
    "for i in range(var0.shape[0]):\n",
    "    if var0['mean'][i]< 0.1634:\n",
    "        low_var_idx.append(i)"
   ]
  },
  {
   "cell_type": "code",
   "execution_count": 50,
   "metadata": {},
   "outputs": [],
   "source": [
    "high_var_idx = []\n",
    "for i in range(var0.shape[0]):\n",
    "    if var0['mean'][i]> 0.3437:\n",
    "        high_var_idx.append(i)"
   ]
  },
  {
   "cell_type": "code",
   "execution_count": 51,
   "metadata": {},
   "outputs": [
    {
     "name": "stderr",
     "output_type": "stream",
     "text": [
      "2023-05-06 21:39:47.558697: I tensorflow/core/platform/cpu_feature_guard.cc:193] This TensorFlow binary is optimized with oneAPI Deep Neural Network Library (oneDNN) to use the following CPU instructions in performance-critical operations:  AVX2 FMA\n",
      "To enable them in other operations, rebuild TensorFlow with the appropriate compiler flags.\n",
      "2023-05-06 21:39:47.668668: E tensorflow/stream_executor/cuda/cuda_blas.cc:2981] Unable to register cuBLAS factory: Attempting to register factory for plugin cuBLAS when one has already been registered\n",
      "2023-05-06 21:39:48.082144: W tensorflow/stream_executor/platform/default/dso_loader.cc:64] Could not load dynamic library 'libnvinfer.so.7'; dlerror: libnvinfer.so.7: cannot open shared object file: No such file or directory; LD_LIBRARY_PATH: :/home/zihe-leon/anaconda3/envs/gcn3/lib/\n",
      "2023-05-06 21:39:48.082191: W tensorflow/stream_executor/platform/default/dso_loader.cc:64] Could not load dynamic library 'libnvinfer_plugin.so.7'; dlerror: libnvinfer_plugin.so.7: cannot open shared object file: No such file or directory; LD_LIBRARY_PATH: :/home/zihe-leon/anaconda3/envs/gcn3/lib/\n",
      "2023-05-06 21:39:48.082196: W tensorflow/compiler/tf2tensorrt/utils/py_utils.cc:38] TF-TRT Warning: Cannot dlopen some TensorRT libraries. If you would like to use Nvidia GPU with TensorRT, please make sure the missing libraries mentioned above are installed properly.\n",
      "/home/zihe-leon/Desktop/RobustGCN-master/src/utils.py:52: FutureWarning: adjacency_matrix will return a scipy.sparse array instead of a matrix in Networkx 3.0.\n",
      "  adj = nx.adjacency_matrix(nx.from_dict_of_lists(graph))\n"
     ]
    }
   ],
   "source": [
    "import time\n",
    "import tensorflow.compat.v1 as tf\n",
    "tf.disable_eager_execution()\n",
    "from utils import *\n",
    "from models import RGCN\n",
    "import random\n",
    "import scipy.sparse as sp\n",
    "# Set random seed\n",
    "seed = 123\n",
    "np.random.seed(seed)\n",
    "tf.set_random_seed(seed)\n",
    "random.seed(seed)\n",
    "\n",
    "# Load data\n",
    "adj, features, y_train, y_val, y_test, train_mask, val_mask, test_mask, label = load_data('pubmed')\n"
   ]
  },
  {
   "cell_type": "code",
   "execution_count": 52,
   "metadata": {},
   "outputs": [],
   "source": [
    "features = features.toarray()"
   ]
  },
  {
   "cell_type": "code",
   "execution_count": 53,
   "metadata": {},
   "outputs": [
    {
     "data": {
      "text/plain": [
       "1.2633097"
      ]
     },
     "execution_count": 53,
     "metadata": {},
     "output_type": "execute_result"
    }
   ],
   "source": [
    "max(features.flatten())"
   ]
  },
  {
   "cell_type": "code",
   "execution_count": 54,
   "metadata": {},
   "outputs": [],
   "source": [
    "low_var = features[low_var_idx, :]\n",
    "high_var = features[high_var_idx, :]\n",
    "mid_var = np.delete(features, low_var_idx+high_var_idx, 0)"
   ]
  },
  {
   "cell_type": "code",
   "execution_count": 55,
   "metadata": {},
   "outputs": [],
   "source": [
    "def investigate(selected_nodes):\n",
    "    var_l = []\n",
    "    num_one_l = []\n",
    "    max_l = []\n",
    "    for row in selected_nodes:\n",
    "        maximum = max(row)\n",
    "        num_one = sum(row)\n",
    "        variance = np.var(row)\n",
    "        var_l.append(variance)\n",
    "        num_one_l.append(num_one)\n",
    "        max_l.append(maximum)\n",
    "    return np.mean(var_l), np.mean(num_one_l), np.mean(max_l)"
   ]
  },
  {
   "cell_type": "code",
   "execution_count": 56,
   "metadata": {},
   "outputs": [
    {
     "data": {
      "text/plain": [
       "(0.0004264425, 2.0194119485806907, 0.26767996)"
      ]
     },
     "execution_count": 56,
     "metadata": {},
     "output_type": "execute_result"
    }
   ],
   "source": [
    "investigate(low_var)"
   ]
  },
  {
   "cell_type": "code",
   "execution_count": 57,
   "metadata": {},
   "outputs": [
    {
     "data": {
      "text/plain": [
       "(0.0003875679, 1.984105832364602, 0.2533894)"
      ]
     },
     "execution_count": 57,
     "metadata": {},
     "output_type": "execute_result"
    }
   ],
   "source": [
    "investigate(high_var)"
   ]
  },
  {
   "cell_type": "code",
   "execution_count": 58,
   "metadata": {},
   "outputs": [
    {
     "data": {
      "text/plain": [
       "(0.00030218484, 1.9609226731291147, 0.20464899)"
      ]
     },
     "execution_count": 58,
     "metadata": {},
     "output_type": "execute_result"
    }
   ],
   "source": [
    "investigate(mid_var)"
   ]
  },
  {
   "cell_type": "code",
   "execution_count": 59,
   "metadata": {},
   "outputs": [
    {
     "data": {
      "text/plain": [
       "(0.00030936737, 1.963599690343834, 0.20851709)"
      ]
     },
     "execution_count": 59,
     "metadata": {},
     "output_type": "execute_result"
    }
   ],
   "source": [
    "investigate(features)"
   ]
  },
  {
   "cell_type": "code",
   "execution_count": 12,
   "metadata": {},
   "outputs": [
    {
     "data": {
      "text/plain": [
       "(array([ 22., 181., 494., 365., 109.,  16.,   3.,   1.,   3.,   1.]),\n",
       " array([0.        , 0.06955586, 0.13911172, 0.20866758, 0.27822344,\n",
       "        0.34777931, 0.41733517, 0.48689103, 0.55644689, 0.62600275,\n",
       "        0.69555861]),\n",
       " <BarContainer object of 10 artists>)"
      ]
     },
     "execution_count": 12,
     "metadata": {},
     "output_type": "execute_result"
    },
    {
     "data": {
      "image/png": "[encoded data removed]",
      "text/plain": [
       "<Figure size 1700x500 with 3 Axes>"
      ]
     },
     "metadata": {},
     "output_type": "display_data"
    }
   ],
   "source": [
    "plt.figure(figsize = (17,5))\n",
    "plt.subplot(1,3,1)\n",
    "plt.title(\"Distrbution of Variances Citeseer\")\n",
    "plt.xlabel('Mean variance of each node')\n",
    "plt.ylabel('Frequency')\n",
    "plt.hist(var0['mean'])\n",
    "plt.subplot(1,3,2)\n",
    "plt.title(\"Distrbution of Variances (perturbed)\")\n",
    "plt.xlabel('Mean variance of each node')\n",
    "plt.ylabel('Frequency')\n",
    "plt.hist(var0[var0['Perturbed']==True]['mean'], color='red')\n",
    "plt.subplot(1,3,3)\n",
    "plt.title(\"Distrbution of Variances (normal)\")\n",
    "plt.xlabel('Mean variance of each node')\n",
    "plt.ylabel('Frequency')\n",
    "plt.hist(var0[var0['Perturbed']==False]['mean'], color='green')"
   ]
  },
  {
   "cell_type": "code",
   "execution_count": 110,
   "metadata": {},
   "outputs": [
    {
     "name": "stdout",
     "output_type": "stream",
     "text": [
      "0.26210498772548735\n",
      "0.019551671220573955\n"
     ]
    }
   ],
   "source": [
    "mean_pert = var0[var0['Perturbed']==True]['mean']\n",
    "print(np.mean(mean_pert))\n",
    "print(np.std(mean_pert))"
   ]
  },
  {
   "cell_type": "code",
   "execution_count": null,
   "metadata": {},
   "outputs": [],
   "source": []
  },
  {
   "cell_type": "code",
   "execution_count": 153,
   "metadata": {},
   "outputs": [
    {
     "data": {
      "text/plain": [
       "[0.05810578878848198,\n",
       " 0.09377231927088472,\n",
       " 0.12943884975328748,\n",
       " 0.16510538023569024,\n",
       " 0.20077191071809297]"
      ]
     },
     "execution_count": 153,
     "metadata": {},
     "output_type": "execute_result"
    }
   ],
   "source": [
    "\n",
    "mean_mean = np.mean(var0['mean'] )\n",
    "mean_std = np.std(var0['mean'] )\n",
    "thrs = [mean_mean-2*mean_std, mean_mean-mean_std, mean_mean, mean_mean+mean_std, mean_mean+2*mean_std]\n",
    "thrs"
   ]
  },
  {
   "cell_type": "code",
   "execution_count": null,
   "metadata": {},
   "outputs": [],
   "source": [
    "def get_pert_rm_idx(thr, variance_matrix):\n",
    "    # variance_matrix has mean column\n",
    "    # thr is the actual number like 0.22300164528433944\n",
    "    rm_pert_idx = []\n",
    "    for i in range(variance_matrix.shape[0]):\n",
    "        if variance_matrix['mean'][i] < thr:\n",
    "            rm_pert_idx.append(i)\n",
    "    return rm_pert_idx"
   ]
  },
  {
   "cell_type": "code",
   "execution_count": null,
   "metadata": {},
   "outputs": [],
   "source": [
    "def remove_pert(features, rm_pert_idx):\n",
    "    features = features.toarray()\n",
    "    cleaned_features = []\n",
    "    for i in range(len(features)):\n",
    "        if not i in rm_pert_idx:\n",
    "            cleaned_features.append(features[i])\n",
    "    cleaned_features = sp.csr_matrix(cleaned_features)\n",
    "    return cleaned_features"
   ]
  },
  {
   "cell_type": "code",
   "execution_count": 116,
   "metadata": {},
   "outputs": [
    {
     "data": {
      "text/html": [
       "<div>\n",
       "<style scoped>\n",
       "    .dataframe tbody tr th:only-of-type {\n",
       "        vertical-align: middle;\n",
       "    }\n",
       "\n",
       "    .dataframe tbody tr th {\n",
       "        vertical-align: top;\n",
       "    }\n",
       "\n",
       "    .dataframe thead th {\n",
       "        text-align: right;\n",
       "    }\n",
       "</style>\n",
       "<table border=\"1\" class=\"dataframe\">\n",
       "  <thead>\n",
       "    <tr style=\"text-align: right;\">\n",
       "      <th></th>\n",
       "      <th>0</th>\n",
       "      <th>1</th>\n",
       "      <th>2</th>\n",
       "      <th>3</th>\n",
       "      <th>4</th>\n",
       "      <th>5</th>\n",
       "      <th>6</th>\n",
       "      <th>7</th>\n",
       "      <th>8</th>\n",
       "      <th>9</th>\n",
       "      <th>10</th>\n",
       "      <th>11</th>\n",
       "      <th>12</th>\n",
       "      <th>13</th>\n",
       "      <th>14</th>\n",
       "      <th>15</th>\n",
       "      <th>mean</th>\n",
       "      <th>Perturbed</th>\n",
       "    </tr>\n",
       "  </thead>\n",
       "  <tbody>\n",
       "    <tr>\n",
       "      <th>0</th>\n",
       "      <td>0.253713</td>\n",
       "      <td>0.244096</td>\n",
       "      <td>0.247609</td>\n",
       "      <td>0.238925</td>\n",
       "      <td>0.239587</td>\n",
       "      <td>0.241277</td>\n",
       "      <td>0.322446</td>\n",
       "      <td>0.254168</td>\n",
       "      <td>0.237571</td>\n",
       "      <td>0.273687</td>\n",
       "      <td>0.247284</td>\n",
       "      <td>0.245183</td>\n",
       "      <td>0.223116</td>\n",
       "      <td>0.231244</td>\n",
       "      <td>0.210221</td>\n",
       "      <td>0.243147</td>\n",
       "      <td>0.247080</td>\n",
       "      <td>True</td>\n",
       "    </tr>\n",
       "    <tr>\n",
       "      <th>1</th>\n",
       "      <td>0.277580</td>\n",
       "      <td>0.274407</td>\n",
       "      <td>0.273173</td>\n",
       "      <td>0.279133</td>\n",
       "      <td>0.263584</td>\n",
       "      <td>0.275545</td>\n",
       "      <td>0.337473</td>\n",
       "      <td>0.276450</td>\n",
       "      <td>0.264163</td>\n",
       "      <td>0.292324</td>\n",
       "      <td>0.288955</td>\n",
       "      <td>0.276295</td>\n",
       "      <td>0.272464</td>\n",
       "      <td>0.270108</td>\n",
       "      <td>0.225032</td>\n",
       "      <td>0.275967</td>\n",
       "      <td>0.276416</td>\n",
       "      <td>True</td>\n",
       "    </tr>\n",
       "    <tr>\n",
       "      <th>2</th>\n",
       "      <td>0.243605</td>\n",
       "      <td>0.221571</td>\n",
       "      <td>0.222795</td>\n",
       "      <td>0.200512</td>\n",
       "      <td>0.205319</td>\n",
       "      <td>0.222812</td>\n",
       "      <td>0.244008</td>\n",
       "      <td>0.243366</td>\n",
       "      <td>0.225120</td>\n",
       "      <td>0.230532</td>\n",
       "      <td>0.279219</td>\n",
       "      <td>0.223416</td>\n",
       "      <td>0.202899</td>\n",
       "      <td>0.168380</td>\n",
       "      <td>0.168697</td>\n",
       "      <td>0.221164</td>\n",
       "      <td>0.220213</td>\n",
       "      <td>False</td>\n",
       "    </tr>\n",
       "    <tr>\n",
       "      <th>3</th>\n",
       "      <td>0.244607</td>\n",
       "      <td>0.241735</td>\n",
       "      <td>0.202295</td>\n",
       "      <td>0.196417</td>\n",
       "      <td>0.199747</td>\n",
       "      <td>0.213056</td>\n",
       "      <td>0.323290</td>\n",
       "      <td>0.253401</td>\n",
       "      <td>0.199443</td>\n",
       "      <td>0.210060</td>\n",
       "      <td>0.214699</td>\n",
       "      <td>0.211180</td>\n",
       "      <td>0.290770</td>\n",
       "      <td>0.143840</td>\n",
       "      <td>0.248615</td>\n",
       "      <td>0.210846</td>\n",
       "      <td>0.225250</td>\n",
       "      <td>False</td>\n",
       "    </tr>\n",
       "    <tr>\n",
       "      <th>4</th>\n",
       "      <td>0.280422</td>\n",
       "      <td>0.278719</td>\n",
       "      <td>0.262141</td>\n",
       "      <td>0.291120</td>\n",
       "      <td>0.262307</td>\n",
       "      <td>0.272835</td>\n",
       "      <td>0.344662</td>\n",
       "      <td>0.279189</td>\n",
       "      <td>0.266255</td>\n",
       "      <td>0.284173</td>\n",
       "      <td>0.289879</td>\n",
       "      <td>0.282184</td>\n",
       "      <td>0.246484</td>\n",
       "      <td>0.262124</td>\n",
       "      <td>0.232393</td>\n",
       "      <td>0.282789</td>\n",
       "      <td>0.276105</td>\n",
       "      <td>True</td>\n",
       "    </tr>\n",
       "    <tr>\n",
       "      <th>...</th>\n",
       "      <td>...</td>\n",
       "      <td>...</td>\n",
       "      <td>...</td>\n",
       "      <td>...</td>\n",
       "      <td>...</td>\n",
       "      <td>...</td>\n",
       "      <td>...</td>\n",
       "      <td>...</td>\n",
       "      <td>...</td>\n",
       "      <td>...</td>\n",
       "      <td>...</td>\n",
       "      <td>...</td>\n",
       "      <td>...</td>\n",
       "      <td>...</td>\n",
       "      <td>...</td>\n",
       "      <td>...</td>\n",
       "      <td>...</td>\n",
       "      <td>...</td>\n",
       "    </tr>\n",
       "    <tr>\n",
       "      <th>19712</th>\n",
       "      <td>0.333971</td>\n",
       "      <td>0.314745</td>\n",
       "      <td>0.283236</td>\n",
       "      <td>0.293260</td>\n",
       "      <td>0.298229</td>\n",
       "      <td>0.324254</td>\n",
       "      <td>0.341550</td>\n",
       "      <td>0.296631</td>\n",
       "      <td>0.338814</td>\n",
       "      <td>0.321069</td>\n",
       "      <td>0.320469</td>\n",
       "      <td>0.318625</td>\n",
       "      <td>0.300245</td>\n",
       "      <td>0.272908</td>\n",
       "      <td>0.250242</td>\n",
       "      <td>0.260950</td>\n",
       "      <td>0.304325</td>\n",
       "      <td>False</td>\n",
       "    </tr>\n",
       "    <tr>\n",
       "      <th>19713</th>\n",
       "      <td>0.242756</td>\n",
       "      <td>0.244990</td>\n",
       "      <td>0.236474</td>\n",
       "      <td>0.239589</td>\n",
       "      <td>0.237811</td>\n",
       "      <td>0.233526</td>\n",
       "      <td>0.302870</td>\n",
       "      <td>0.254295</td>\n",
       "      <td>0.229951</td>\n",
       "      <td>0.253681</td>\n",
       "      <td>0.257585</td>\n",
       "      <td>0.251972</td>\n",
       "      <td>0.227023</td>\n",
       "      <td>0.194014</td>\n",
       "      <td>0.217279</td>\n",
       "      <td>0.227771</td>\n",
       "      <td>0.240724</td>\n",
       "      <td>True</td>\n",
       "    </tr>\n",
       "    <tr>\n",
       "      <th>19714</th>\n",
       "      <td>0.170005</td>\n",
       "      <td>0.219061</td>\n",
       "      <td>0.182340</td>\n",
       "      <td>0.241927</td>\n",
       "      <td>0.189291</td>\n",
       "      <td>0.165700</td>\n",
       "      <td>0.210370</td>\n",
       "      <td>0.204063</td>\n",
       "      <td>0.181135</td>\n",
       "      <td>0.188722</td>\n",
       "      <td>0.209176</td>\n",
       "      <td>0.162741</td>\n",
       "      <td>0.110231</td>\n",
       "      <td>0.271471</td>\n",
       "      <td>0.198932</td>\n",
       "      <td>0.196112</td>\n",
       "      <td>0.193830</td>\n",
       "      <td>False</td>\n",
       "    </tr>\n",
       "    <tr>\n",
       "      <th>19715</th>\n",
       "      <td>0.290360</td>\n",
       "      <td>0.286926</td>\n",
       "      <td>0.282364</td>\n",
       "      <td>0.286452</td>\n",
       "      <td>0.276019</td>\n",
       "      <td>0.300081</td>\n",
       "      <td>0.343469</td>\n",
       "      <td>0.290508</td>\n",
       "      <td>0.288755</td>\n",
       "      <td>0.295590</td>\n",
       "      <td>0.305722</td>\n",
       "      <td>0.282202</td>\n",
       "      <td>0.261106</td>\n",
       "      <td>0.247315</td>\n",
       "      <td>0.221607</td>\n",
       "      <td>0.295828</td>\n",
       "      <td>0.284644</td>\n",
       "      <td>True</td>\n",
       "    </tr>\n",
       "    <tr>\n",
       "      <th>19716</th>\n",
       "      <td>0.219081</td>\n",
       "      <td>0.234650</td>\n",
       "      <td>0.223991</td>\n",
       "      <td>0.248971</td>\n",
       "      <td>0.251990</td>\n",
       "      <td>0.243160</td>\n",
       "      <td>0.293572</td>\n",
       "      <td>0.233578</td>\n",
       "      <td>0.230304</td>\n",
       "      <td>0.282371</td>\n",
       "      <td>0.246952</td>\n",
       "      <td>0.230978</td>\n",
       "      <td>0.218393</td>\n",
       "      <td>0.231942</td>\n",
       "      <td>0.195207</td>\n",
       "      <td>0.217276</td>\n",
       "      <td>0.237651</td>\n",
       "      <td>False</td>\n",
       "    </tr>\n",
       "  </tbody>\n",
       "</table>\n",
       "<p>19717 rows × 18 columns</p>\n",
       "</div>"
      ],
      "text/plain": [
       "              0         1         2         3         4         5         6  \\\n",
       "0      0.253713  0.244096  0.247609  0.238925  0.239587  0.241277  0.322446   \n",
       "1      0.277580  0.274407  0.273173  0.279133  0.263584  0.275545  0.337473   \n",
       "2      0.243605  0.221571  0.222795  0.200512  0.205319  0.222812  0.244008   \n",
       "3      0.244607  0.241735  0.202295  0.196417  0.199747  0.213056  0.323290   \n",
       "4      0.280422  0.278719  0.262141  0.291120  0.262307  0.272835  0.344662   \n",
       "...         ...       ...       ...       ...       ...       ...       ...   \n",
       "19712  0.333971  0.314745  0.283236  0.293260  0.298229  0.324254  0.341550   \n",
       "19713  0.242756  0.244990  0.236474  0.239589  0.237811  0.233526  0.302870   \n",
       "19714  0.170005  0.219061  0.182340  0.241927  0.189291  0.165700  0.210370   \n",
       "19715  0.290360  0.286926  0.282364  0.286452  0.276019  0.300081  0.343469   \n",
       "19716  0.219081  0.234650  0.223991  0.248971  0.251990  0.243160  0.293572   \n",
       "\n",
       "              7         8         9        10        11        12        13  \\\n",
       "0      0.254168  0.237571  0.273687  0.247284  0.245183  0.223116  0.231244   \n",
       "1      0.276450  0.264163  0.292324  0.288955  0.276295  0.272464  0.270108   \n",
       "2      0.243366  0.225120  0.230532  0.279219  0.223416  0.202899  0.168380   \n",
       "3      0.253401  0.199443  0.210060  0.214699  0.211180  0.290770  0.143840   \n",
       "4      0.279189  0.266255  0.284173  0.289879  0.282184  0.246484  0.262124   \n",
       "...         ...       ...       ...       ...       ...       ...       ...   \n",
       "19712  0.296631  0.338814  0.321069  0.320469  0.318625  0.300245  0.272908   \n",
       "19713  0.254295  0.229951  0.253681  0.257585  0.251972  0.227023  0.194014   \n",
       "19714  0.204063  0.181135  0.188722  0.209176  0.162741  0.110231  0.271471   \n",
       "19715  0.290508  0.288755  0.295590  0.305722  0.282202  0.261106  0.247315   \n",
       "19716  0.233578  0.230304  0.282371  0.246952  0.230978  0.218393  0.231942   \n",
       "\n",
       "             14        15      mean  Perturbed  \n",
       "0      0.210221  0.243147  0.247080       True  \n",
       "1      0.225032  0.275967  0.276416       True  \n",
       "2      0.168697  0.221164  0.220213      False  \n",
       "3      0.248615  0.210846  0.225250      False  \n",
       "4      0.232393  0.282789  0.276105       True  \n",
       "...         ...       ...       ...        ...  \n",
       "19712  0.250242  0.260950  0.304325      False  \n",
       "19713  0.217279  0.227771  0.240724       True  \n",
       "19714  0.198932  0.196112  0.193830      False  \n",
       "19715  0.221607  0.295828  0.284644       True  \n",
       "19716  0.195207  0.217276  0.237651      False  \n",
       "\n",
       "[19717 rows x 18 columns]"
      ]
     },
     "execution_count": 116,
     "metadata": {},
     "output_type": "execute_result"
    }
   ],
   "source": [
    "var0"
   ]
  },
  {
   "cell_type": "code",
   "execution_count": 106,
   "metadata": {},
   "outputs": [
    {
     "data": {
      "text/plain": [
       "(array([   8.,   67.,  667., 2278., 3784., 3228., 1433.,  383.,   65.,\n",
       "           7.]),\n",
       " array([0.        , 0.05610719, 0.11221439, 0.16832158, 0.22442877,\n",
       "        0.28053597, 0.33664316, 0.39275036, 0.44885755, 0.50496474,\n",
       "        0.56107194]),\n",
       " <BarContainer object of 10 artists>)"
      ]
     },
     "execution_count": 106,
     "metadata": {},
     "output_type": "execute_result"
    },
    {
     "data": {
      "image/png": "[encoded data removed]",
      "text/plain": [
       "<Figure size 640x480 with 1 Axes>"
      ]
     },
     "metadata": {},
     "output_type": "display_data"
    }
   ],
   "source": [
    "plt.hist(var0[var0['Perturbed']==False]['mean'])"
   ]
  },
  {
   "cell_type": "code",
   "execution_count": null,
   "metadata": {},
   "outputs": [],
   "source": []
  },
  {
   "cell_type": "code",
   "execution_count": 94,
   "metadata": {},
   "outputs": [
    {
     "data": {
      "text/plain": [
       "(array([3.211e+03, 7.400e+01, 2.500e+01, 7.000e+00, 5.000e+00, 3.000e+00,\n",
       "        1.000e+00, 0.000e+00, 0.000e+00, 1.000e+00]),\n",
       " array([0.        , 0.0019816 , 0.0039632 , 0.0059448 , 0.0079264 ,\n",
       "        0.009908  , 0.0118896 , 0.01387119, 0.01585279, 0.01783439,\n",
       "        0.01981599]),\n",
       " <BarContainer object of 10 artists>)"
      ]
     },
     "execution_count": 94,
     "metadata": {},
     "output_type": "execute_result"
    },
    {
     "data": {
      "image/png": "[encoded data removed]",
      "text/plain": [
       "<Figure size 640x480 with 1 Axes>"
      ]
     },
     "metadata": {},
     "output_type": "display_data"
    }
   ],
   "source": [
    "# layer 1\n",
    "var1 = pd.read_csv('var1.csv')\n",
    "var1['mean'] = var1.mean(axis=1)\n",
    "plt.hist(var1['mean'])\n"
   ]
  },
  {
   "cell_type": "code",
   "execution_count": 95,
   "metadata": {},
   "outputs": [],
   "source": [
    "perturbed_idx = np.load('/home/zihe-leon/Desktop/RobustGCN-master/perturbed_idx.npy')\n",
    "perturbed = [False]*var1.shape[0]\n",
    "for i in range(len(perturbed)):\n",
    "    if i in perturbed_idx:\n",
    "        perturbed[i] = True\n",
    "var1['Perturbed'] = perturbed"
   ]
  },
  {
   "cell_type": "code",
   "execution_count": 96,
   "metadata": {},
   "outputs": [
    {
     "data": {
      "text/plain": [
       "(array([1.261e+03, 2.000e+01, 1.400e+01, 1.900e+01, 5.000e+00, 4.000e+00,\n",
       "        2.000e+00, 1.000e+00, 0.000e+00, 2.000e+00]),\n",
       " array([0.        , 0.00093595, 0.00187189, 0.00280784, 0.00374378,\n",
       "        0.00467973, 0.00561567, 0.00655162, 0.00748756, 0.00842351,\n",
       "        0.00935945]),\n",
       " <BarContainer object of 10 artists>)"
      ]
     },
     "execution_count": 96,
     "metadata": {},
     "output_type": "execute_result"
    },
    {
     "data": {
      "image/png": "[encoded data removed]",
      "text/plain": [
       "<Figure size 640x480 with 1 Axes>"
      ]
     },
     "metadata": {},
     "output_type": "display_data"
    }
   ],
   "source": [
    "plt.hist(var1[var1['Perturbed']==True]['mean'])"
   ]
  },
  {
   "cell_type": "code",
   "execution_count": 97,
   "metadata": {},
   "outputs": [
    {
     "data": {
      "text/plain": [
       "(array([1.926e+03, 4.500e+01, 1.600e+01, 4.000e+00, 3.000e+00, 3.000e+00,\n",
       "        1.000e+00, 0.000e+00, 0.000e+00, 1.000e+00]),\n",
       " array([0.        , 0.0019816 , 0.0039632 , 0.0059448 , 0.0079264 ,\n",
       "        0.009908  , 0.0118896 , 0.01387119, 0.01585279, 0.01783439,\n",
       "        0.01981599]),\n",
       " <BarContainer object of 10 artists>)"
      ]
     },
     "execution_count": 97,
     "metadata": {},
     "output_type": "execute_result"
    },
    {
     "data": {
      "image/png": "[encoded data removed]",
      "text/plain": [
       "<Figure size 640x480 with 1 Axes>"
      ]
     },
     "metadata": {},
     "output_type": "display_data"
    }
   ],
   "source": [
    "plt.hist(var1[var1['Perturbed']==False]['mean'])"
   ]
  },
  {
   "cell_type": "code",
   "execution_count": 119,
   "metadata": {},
   "outputs": [
    {
     "name": "stderr",
     "output_type": "stream",
     "text": [
      "/home/zihe-leon/Desktop/RobustGCN-master/src/utils.py:52: FutureWarning: adjacency_matrix will return a scipy.sparse array instead of a matrix in Networkx 3.0.\n",
      "  adj = nx.adjacency_matrix(nx.from_dict_of_lists(graph))\n"
     ]
    }
   ],
   "source": [
    "from utils import *\n",
    "adj, features, y_train, y_val, y_test, train_mask, val_mask, test_mask, label = load_data('cora')"
   ]
  },
  {
   "cell_type": "code",
   "execution_count": 140,
   "metadata": {},
   "outputs": [
    {
     "data": {
      "text/plain": [
       "(2708, 7)"
      ]
     },
     "execution_count": 140,
     "metadata": {},
     "output_type": "execute_result"
    }
   ],
   "source": [
    "y_train.shape"
   ]
  },
  {
   "cell_type": "code",
   "execution_count": null,
   "metadata": {},
   "outputs": [],
   "source": []
  },
  {
   "cell_type": "code",
   "execution_count": 123,
   "metadata": {},
   "outputs": [
    {
     "data": {
      "text/plain": [
       "2708"
      ]
     },
     "execution_count": 123,
     "metadata": {},
     "output_type": "execute_result"
    }
   ],
   "source": [
    "len(train_mask)"
   ]
  },
  {
   "cell_type": "code",
   "execution_count": 124,
   "metadata": {},
   "outputs": [
    {
     "data": {
      "text/plain": [
       "array([0., 0., 0., 1., 0., 0., 0.])"
      ]
     },
     "execution_count": 124,
     "metadata": {},
     "output_type": "execute_result"
    }
   ],
   "source": [
    "y_train[0]"
   ]
  },
  {
   "cell_type": "code",
   "execution_count": 128,
   "metadata": {},
   "outputs": [
    {
     "data": {
      "text/plain": [
       "array([[0, 0, 0, ..., 0, 0, 0],\n",
       "       [0, 0, 1, ..., 0, 0, 0],\n",
       "       [0, 1, 0, ..., 0, 0, 0],\n",
       "       ...,\n",
       "       [0, 0, 0, ..., 0, 0, 0],\n",
       "       [0, 0, 0, ..., 0, 0, 1],\n",
       "       [0, 0, 0, ..., 0, 1, 0]])"
      ]
     },
     "execution_count": 128,
     "metadata": {},
     "output_type": "execute_result"
    }
   ],
   "source": [
    "adj.toarray()"
   ]
  },
  {
   "cell_type": "code",
   "execution_count": 130,
   "metadata": {},
   "outputs": [],
   "source": [
    "a = np.array([[ 0,  1,  2,  3],\n",
    "               [ 4,  5,  6,  7],\n",
    "               [ 8,  9, 10, 11],\n",
    "               [12, 13, 14, 15]])"
   ]
  },
  {
   "cell_type": "code",
   "execution_count": 137,
   "metadata": {},
   "outputs": [
    {
     "data": {
      "text/plain": [
       "array([[ 2,  3],\n",
       "       [ 6,  7],\n",
       "       [10, 11],\n",
       "       [14, 15]])"
      ]
     },
     "execution_count": 137,
     "metadata": {},
     "output_type": "execute_result"
    }
   ],
   "source": [
    "np.delete(a, [0, 1], 1)  \n"
   ]
  },
  {
   "cell_type": "code",
   "execution_count": 134,
   "metadata": {},
   "outputs": [
    {
     "data": {
      "text/plain": [
       "-0.08667404022651018"
      ]
     },
     "execution_count": 134,
     "metadata": {},
     "output_type": "execute_result"
    }
   ],
   "source": [
    "np.random.normal(0, .1, 1)[0]"
   ]
  },
  {
   "cell_type": "code",
   "execution_count": 168,
   "metadata": {},
   "outputs": [],
   "source": [
    "import time\n",
    "import tensorflow.compat.v1 as tf\n",
    "tf.disable_eager_execution()\n",
    "from utils import *\n",
    "from models import RGCN\n",
    "import random\n",
    "import scipy.sparse as sp\n",
    "# Set random seed\n",
    "seed = 123\n",
    "np.random.seed(seed)\n",
    "tf.set_random_seed(seed)\n",
    "random.seed(seed)\n",
    "\n",
    "# Load data\n",
    "adj, features, y_train, y_val, y_test, train_mask, val_mask, test_mask, label = load_data('pubmed')"
   ]
  },
  {
   "cell_type": "code",
   "execution_count": 169,
   "metadata": {},
   "outputs": [],
   "source": [
    "features = features.toarray()"
   ]
  },
  {
   "cell_type": "code",
   "execution_count": 171,
   "metadata": {},
   "outputs": [
    {
     "data": {
      "text/plain": [
       "(19717, 500)"
      ]
     },
     "execution_count": 171,
     "metadata": {},
     "output_type": "execute_result"
    }
   ],
   "source": [
    "features.shape"
   ]
  },
  {
   "cell_type": "code",
   "execution_count": 160,
   "metadata": {},
   "outputs": [],
   "source": [
    "rm_pert_idx = [1,2,3,4,5]"
   ]
  },
  {
   "cell_type": "code",
   "execution_count": 161,
   "metadata": {},
   "outputs": [],
   "source": [
    "good_features = np.delete(features, rm_pert_idx, 0)  "
   ]
  },
  {
   "cell_type": "code",
   "execution_count": 173,
   "metadata": {},
   "outputs": [],
   "source": [
    "mean_feature = np.mean(good_features, axis = 0)"
   ]
  },
  {
   "cell_type": "code",
   "execution_count": 174,
   "metadata": {},
   "outputs": [],
   "source": [
    "features[rm_pert_idx, :] = mean_feature"
   ]
  },
  {
   "cell_type": "code",
   "execution_count": 177,
   "metadata": {},
   "outputs": [
    {
     "data": {
      "text/plain": [
       "array([0.01747921, 0.003149  , 0.00665818, 0.00445175, 0.00277314,\n",
       "       0.0049105 , 0.00344368, 0.00615893, 0.00626731, 0.00551068,\n",
       "       0.00572493, 0.00394314, 0.00362948, 0.00735494, 0.00410522,\n",
       "       0.01336814, 0.0098626 , 0.00469489, 0.0059289 , 0.00246475,\n",
       "       0.00413206, 0.00483047, 0.00588466, 0.00402587, 0.00262026,\n",
       "       0.00682373, 0.00383301, 0.00335858, 0.00358783, 0.00864138,\n",
       "       0.00309658, 0.0045795 , 0.00976456, 0.0070263 , 0.00222787,\n",
       "       0.00375665, 0.00536659, 0.005214  , 0.00846629, 0.00258064,\n",
       "       0.00305643, 0.00668726, 0.00419219, 0.0050413 , 0.00362298,\n",
       "       0.00254187, 0.00394036, 0.0046618 , 0.00475851, 0.01062819,\n",
       "       0.00247971, 0.00313338, 0.00533196, 0.00914905, 0.00631789,\n",
       "       0.00551139, 0.00444924, 0.00487736, 0.0029067 , 0.00438403,\n",
       "       0.00659282, 0.00474455, 0.00597586, 0.00344425, 0.0033396 ,\n",
       "       0.00418668, 0.00278114, 0.00948224, 0.00428892, 0.00406558,\n",
       "       0.01012116, 0.00720145, 0.00614854, 0.00370534, 0.0054921 ,\n",
       "       0.00225847, 0.00332826, 0.00271134, 0.0040035 , 0.00301302,\n",
       "       0.00432062, 0.00490053, 0.00315772, 0.00499486, 0.00364282,\n",
       "       0.00381532, 0.00493438, 0.00255183, 0.00256744, 0.01444188,\n",
       "       0.00537887, 0.00475538, 0.00287413, 0.00487054, 0.00398523,\n",
       "       0.0061596 , 0.00321538, 0.00323873, 0.00434692, 0.00295235,\n",
       "       0.00428825, 0.0037008 , 0.00490648, 0.00331221, 0.00393847,\n",
       "       0.00419805, 0.00606987, 0.00277963, 0.00396289, 0.00530777,\n",
       "       0.00549389, 0.00454741, 0.00493089, 0.00271707, 0.00451445,\n",
       "       0.00379793, 0.00400514, 0.00365073, 0.00395356, 0.00478438,\n",
       "       0.00290716, 0.00501246, 0.00672857, 0.01112208, 0.00240736,\n",
       "       0.00213431, 0.00226436, 0.00198762, 0.0024512 , 0.00301724,\n",
       "       0.00416952, 0.00592109, 0.00313756, 0.00303798, 0.00320014,\n",
       "       0.00197732, 0.00303904, 0.00334453, 0.00525732, 0.01011862,\n",
       "       0.00257415, 0.00311671, 0.00359264, 0.00302519, 0.00265856,\n",
       "       0.00225421, 0.00781501, 0.00529932, 0.00355378, 0.01532609,\n",
       "       0.0024749 , 0.00267737, 0.00243922, 0.00205002, 0.00270567,\n",
       "       0.00501692, 0.00314292, 0.00315266, 0.00297578, 0.00575552,\n",
       "       0.00444034, 0.00309098, 0.01412779, 0.00269565, 0.00334498,\n",
       "       0.00346609, 0.00569578, 0.0024129 , 0.00495535, 0.00734826,\n",
       "       0.00210915, 0.00255466, 0.00262962, 0.00419264, 0.00391411,\n",
       "       0.00631228, 0.00249582, 0.00245352, 0.00304376, 0.00404492,\n",
       "       0.00514812, 0.00234364, 0.00247126, 0.00378967, 0.00362454,\n",
       "       0.00401316, 0.00292558, 0.00347308, 0.00268953, 0.00310938,\n",
       "       0.00421496, 0.00627139, 0.00582301, 0.0038487 , 0.00217385,\n",
       "       0.00396951, 0.01550146, 0.0021102 , 0.0023503 , 0.00239422,\n",
       "       0.00248356, 0.00845963, 0.00787547, 0.00344393, 0.00798425,\n",
       "       0.00512854, 0.00266168, 0.00324656, 0.00241189, 0.00248165,\n",
       "       0.0029612 , 0.00279872, 0.00315911, 0.00275411, 0.00207883,\n",
       "       0.00213323, 0.0043918 , 0.00325693, 0.00370147, 0.00626761,\n",
       "       0.00294134, 0.00440184, 0.00468524, 0.0035712 , 0.00403321,\n",
       "       0.00229671, 0.00359787, 0.00385027, 0.00369914, 0.00228786,\n",
       "       0.00282803, 0.0076875 , 0.00814865, 0.00355084, 0.00727248,\n",
       "       0.00516284, 0.00474157, 0.0049282 , 0.00401831, 0.00284239,\n",
       "       0.00623375, 0.00241037, 0.00227897, 0.00282019, 0.00331511,\n",
       "       0.00234653, 0.00268588, 0.00753174, 0.00563658, 0.00230365,\n",
       "       0.00313138, 0.00913292, 0.0038216 , 0.00308551, 0.00283535,\n",
       "       0.00208087, 0.00294055, 0.00427436, 0.00514047, 0.00258503,\n",
       "       0.00236043, 0.00245428, 0.00258377, 0.00257142, 0.00356173,\n",
       "       0.00396987, 0.00222259, 0.00338234, 0.00259872, 0.00417808,\n",
       "       0.00298111, 0.00301079, 0.00208408, 0.00397323, 0.00339934,\n",
       "       0.0021185 , 0.00262996, 0.00222498, 0.00285839, 0.00505179,\n",
       "       0.00306654, 0.00284447, 0.00235969, 0.00305542, 0.00292766,\n",
       "       0.00577492, 0.00321496, 0.00257659, 0.00397603, 0.00370169,\n",
       "       0.00370707, 0.00327793, 0.00267747, 0.00258026, 0.00421358,\n",
       "       0.00456073, 0.00455384, 0.00298757, 0.0027758 , 0.00199127,\n",
       "       0.00324747, 0.00320181, 0.00352692, 0.00245986, 0.00221964,\n",
       "       0.00406965, 0.00926357, 0.00286243, 0.0042846 , 0.00336176,\n",
       "       0.00236156, 0.00384879, 0.00255609, 0.00363589, 0.00234412,\n",
       "       0.00215646, 0.00332907, 0.00306895, 0.00352168, 0.00249561,\n",
       "       0.00517556, 0.00249257, 0.00320749, 0.00461244, 0.00349625,\n",
       "       0.00250518, 0.00226561, 0.00388689, 0.00462729, 0.00837351,\n",
       "       0.00253603, 0.00333829, 0.00496637, 0.00234193, 0.00257648,\n",
       "       0.00243151, 0.00242493, 0.00230832, 0.00528931, 0.00250796,\n",
       "       0.00346334, 0.00263622, 0.00373791, 0.00226923, 0.0026241 ,\n",
       "       0.00351849, 0.0070116 , 0.0050644 , 0.00527662, 0.00293875,\n",
       "       0.00478756, 0.00592947, 0.00253817, 0.00307963, 0.00290879,\n",
       "       0.00425765, 0.00393496, 0.00549538, 0.00184843, 0.00520788,\n",
       "       0.00257715, 0.00245888, 0.00311078, 0.0029086 , 0.00398529,\n",
       "       0.00410465, 0.00250464, 0.00294594, 0.00247506, 0.00224229,\n",
       "       0.00229623, 0.00289988, 0.00310609, 0.00199163, 0.00228652,\n",
       "       0.00222713, 0.00244704, 0.00283685, 0.00539376, 0.00597554,\n",
       "       0.00331082, 0.00481643, 0.00519567, 0.00391756, 0.00228653,\n",
       "       0.00326765, 0.01051501, 0.00349837, 0.00255222, 0.00358748,\n",
       "       0.00245059, 0.00201998, 0.00289415, 0.00220353, 0.00381528,\n",
       "       0.00567109, 0.00282105, 0.00337519, 0.0032133 , 0.00261121,\n",
       "       0.0023487 , 0.004478  , 0.00284778, 0.00272546, 0.0024159 ,\n",
       "       0.00276184, 0.00251955, 0.00306688, 0.00241052, 0.00306265,\n",
       "       0.00217866, 0.00268165, 0.0032772 , 0.00195395, 0.00323815,\n",
       "       0.00592063, 0.00300481, 0.00238499, 0.00243632, 0.00230245,\n",
       "       0.00275134, 0.00301129, 0.00247879, 0.00362459, 0.00217199,\n",
       "       0.00239395, 0.00339346, 0.00241113, 0.00262326, 0.00325854,\n",
       "       0.00241857, 0.00311743, 0.00307603, 0.00290225, 0.00609457,\n",
       "       0.00295473, 0.00248085, 0.00272757, 0.00209625, 0.00249452,\n",
       "       0.00351202, 0.00403283, 0.00351833, 0.00358961, 0.00708107,\n",
       "       0.00271782, 0.00265597, 0.00355131, 0.00379091, 0.00965345,\n",
       "       0.00225206, 0.0033579 , 0.00384099, 0.00399749, 0.00288297,\n",
       "       0.00257181, 0.00316793, 0.00348269, 0.00388176, 0.00286635,\n",
       "       0.00304769, 0.00230793, 0.00237486, 0.00237385, 0.00415202,\n",
       "       0.00311484, 0.00301696, 0.00267758, 0.00262763, 0.00255058,\n",
       "       0.00340723, 0.00797711, 0.00342858, 0.00279339, 0.00265065,\n",
       "       0.00207041, 0.00228135, 0.00879638, 0.00237506, 0.00293963,\n",
       "       0.0030676 , 0.00235326, 0.00486938, 0.00223075, 0.00374851,\n",
       "       0.0027128 , 0.00206611, 0.00221752, 0.00300093, 0.00234174,\n",
       "       0.00338135, 0.00261155, 0.00205796, 0.0020064 , 0.00233236,\n",
       "       0.00239898, 0.00325285, 0.00310435, 0.00274343, 0.00424681],\n",
       "      dtype=float32)"
      ]
     },
     "execution_count": 177,
     "metadata": {},
     "output_type": "execute_result"
    }
   ],
   "source": [
    "mean_feature"
   ]
  },
  {
   "cell_type": "code",
   "execution_count": 176,
   "metadata": {},
   "outputs": [
    {
     "data": {
      "text/plain": [
       "array([[0.01747921, 0.003149  , 0.00665818, 0.00445175, 0.00277314,\n",
       "        0.0049105 , 0.00344368, 0.00615893, 0.00626731, 0.00551068,\n",
       "        0.00572493, 0.00394314, 0.00362948, 0.00735494, 0.00410522,\n",
       "        0.01336814, 0.0098626 , 0.00469489, 0.0059289 , 0.00246475,\n",
       "        0.00413206, 0.00483047, 0.00588466, 0.00402587, 0.00262026,\n",
       "        0.00682373, 0.00383301, 0.00335858, 0.00358783, 0.00864138,\n",
       "        0.00309658, 0.0045795 , 0.00976456, 0.0070263 , 0.00222787,\n",
       "        0.00375665, 0.00536659, 0.005214  , 0.00846629, 0.00258064,\n",
       "        0.00305643, 0.00668726, 0.00419219, 0.0050413 , 0.00362298,\n",
       "        0.00254187, 0.00394036, 0.0046618 , 0.00475851, 0.01062819,\n",
       "        0.00247971, 0.00313338, 0.00533196, 0.00914905, 0.00631789,\n",
       "        0.00551139, 0.00444924, 0.00487736, 0.0029067 , 0.00438403,\n",
       "        0.00659282, 0.00474455, 0.00597586, 0.00344425, 0.0033396 ,\n",
       "        0.00418668, 0.00278114, 0.00948224, 0.00428892, 0.00406558,\n",
       "        0.01012116, 0.00720145, 0.00614854, 0.00370534, 0.0054921 ,\n",
       "        0.00225847, 0.00332826, 0.00271134, 0.0040035 , 0.00301302,\n",
       "        0.00432062, 0.00490053, 0.00315772, 0.00499486, 0.00364282,\n",
       "        0.00381532, 0.00493438, 0.00255183, 0.00256744, 0.01444188,\n",
       "        0.00537887, 0.00475538, 0.00287413, 0.00487054, 0.00398523,\n",
       "        0.0061596 , 0.00321538, 0.00323873, 0.00434692, 0.00295235,\n",
       "        0.00428825, 0.0037008 , 0.00490648, 0.00331221, 0.00393847,\n",
       "        0.00419805, 0.00606987, 0.00277963, 0.00396289, 0.00530777,\n",
       "        0.00549389, 0.00454741, 0.00493089, 0.00271707, 0.00451445,\n",
       "        0.00379793, 0.00400514, 0.00365073, 0.00395356, 0.00478438,\n",
       "        0.00290716, 0.00501246, 0.00672857, 0.01112208, 0.00240736,\n",
       "        0.00213431, 0.00226436, 0.00198762, 0.0024512 , 0.00301724,\n",
       "        0.00416952, 0.00592109, 0.00313756, 0.00303798, 0.00320014,\n",
       "        0.00197732, 0.00303904, 0.00334453, 0.00525732, 0.01011862,\n",
       "        0.00257415, 0.00311671, 0.00359264, 0.00302519, 0.00265856,\n",
       "        0.00225421, 0.00781501, 0.00529932, 0.00355378, 0.01532609,\n",
       "        0.0024749 , 0.00267737, 0.00243922, 0.00205002, 0.00270567,\n",
       "        0.00501692, 0.00314292, 0.00315266, 0.00297578, 0.00575552,\n",
       "        0.00444034, 0.00309098, 0.01412779, 0.00269565, 0.00334498,\n",
       "        0.00346609, 0.00569578, 0.0024129 , 0.00495535, 0.00734826,\n",
       "        0.00210915, 0.00255466, 0.00262962, 0.00419264, 0.00391411,\n",
       "        0.00631228, 0.00249582, 0.00245352, 0.00304376, 0.00404492,\n",
       "        0.00514812, 0.00234364, 0.00247126, 0.00378967, 0.00362454,\n",
       "        0.00401316, 0.00292558, 0.00347308, 0.00268953, 0.00310938,\n",
       "        0.00421496, 0.00627139, 0.00582301, 0.0038487 , 0.00217385,\n",
       "        0.00396951, 0.01550146, 0.0021102 , 0.0023503 , 0.00239422,\n",
       "        0.00248356, 0.00845963, 0.00787547, 0.00344393, 0.00798425,\n",
       "        0.00512854, 0.00266168, 0.00324656, 0.00241189, 0.00248165,\n",
       "        0.0029612 , 0.00279872, 0.00315911, 0.00275411, 0.00207883,\n",
       "        0.00213323, 0.0043918 , 0.00325693, 0.00370147, 0.00626761,\n",
       "        0.00294134, 0.00440184, 0.00468524, 0.0035712 , 0.00403321,\n",
       "        0.00229671, 0.00359787, 0.00385027, 0.00369914, 0.00228786,\n",
       "        0.00282803, 0.0076875 , 0.00814865, 0.00355084, 0.00727248,\n",
       "        0.00516284, 0.00474157, 0.0049282 , 0.00401831, 0.00284239,\n",
       "        0.00623375, 0.00241037, 0.00227897, 0.00282019, 0.00331511,\n",
       "        0.00234653, 0.00268588, 0.00753174, 0.00563658, 0.00230365,\n",
       "        0.00313138, 0.00913292, 0.0038216 , 0.00308551, 0.00283535,\n",
       "        0.00208087, 0.00294055, 0.00427436, 0.00514047, 0.00258503,\n",
       "        0.00236043, 0.00245428, 0.00258377, 0.00257142, 0.00356173,\n",
       "        0.00396987, 0.00222259, 0.00338234, 0.00259872, 0.00417808,\n",
       "        0.00298111, 0.00301079, 0.00208408, 0.00397323, 0.00339934,\n",
       "        0.0021185 , 0.00262996, 0.00222498, 0.00285839, 0.00505179,\n",
       "        0.00306654, 0.00284447, 0.00235969, 0.00305542, 0.00292766,\n",
       "        0.00577492, 0.00321496, 0.00257659, 0.00397603, 0.00370169,\n",
       "        0.00370707, 0.00327793, 0.00267747, 0.00258026, 0.00421358,\n",
       "        0.00456073, 0.00455384, 0.00298757, 0.0027758 , 0.00199127,\n",
       "        0.00324747, 0.00320181, 0.00352692, 0.00245986, 0.00221964,\n",
       "        0.00406965, 0.00926357, 0.00286243, 0.0042846 , 0.00336176,\n",
       "        0.00236156, 0.00384879, 0.00255609, 0.00363589, 0.00234412,\n",
       "        0.00215646, 0.00332907, 0.00306895, 0.00352168, 0.00249561,\n",
       "        0.00517556, 0.00249257, 0.00320749, 0.00461244, 0.00349625,\n",
       "        0.00250518, 0.00226561, 0.00388689, 0.00462729, 0.00837351,\n",
       "        0.00253603, 0.00333829, 0.00496637, 0.00234193, 0.00257648,\n",
       "        0.00243151, 0.00242493, 0.00230832, 0.00528931, 0.00250796,\n",
       "        0.00346334, 0.00263622, 0.00373791, 0.00226923, 0.0026241 ,\n",
       "        0.00351849, 0.0070116 , 0.0050644 , 0.00527662, 0.00293875,\n",
       "        0.00478756, 0.00592947, 0.00253817, 0.00307963, 0.00290879,\n",
       "        0.00425765, 0.00393496, 0.00549538, 0.00184843, 0.00520788,\n",
       "        0.00257715, 0.00245888, 0.00311078, 0.0029086 , 0.00398529,\n",
       "        0.00410465, 0.00250464, 0.00294594, 0.00247506, 0.00224229,\n",
       "        0.00229623, 0.00289988, 0.00310609, 0.00199163, 0.00228652,\n",
       "        0.00222713, 0.00244704, 0.00283685, 0.00539376, 0.00597554,\n",
       "        0.00331082, 0.00481643, 0.00519567, 0.00391756, 0.00228653,\n",
       "        0.00326765, 0.01051501, 0.00349837, 0.00255222, 0.00358748,\n",
       "        0.00245059, 0.00201998, 0.00289415, 0.00220353, 0.00381528,\n",
       "        0.00567109, 0.00282105, 0.00337519, 0.0032133 , 0.00261121,\n",
       "        0.0023487 , 0.004478  , 0.00284778, 0.00272546, 0.0024159 ,\n",
       "        0.00276184, 0.00251955, 0.00306688, 0.00241052, 0.00306265,\n",
       "        0.00217866, 0.00268165, 0.0032772 , 0.00195395, 0.00323815,\n",
       "        0.00592063, 0.00300481, 0.00238499, 0.00243632, 0.00230245,\n",
       "        0.00275134, 0.00301129, 0.00247879, 0.00362459, 0.00217199,\n",
       "        0.00239395, 0.00339346, 0.00241113, 0.00262326, 0.00325854,\n",
       "        0.00241857, 0.00311743, 0.00307603, 0.00290225, 0.00609457,\n",
       "        0.00295473, 0.00248085, 0.00272757, 0.00209625, 0.00249452,\n",
       "        0.00351202, 0.00403283, 0.00351833, 0.00358961, 0.00708107,\n",
       "        0.00271782, 0.00265597, 0.00355131, 0.00379091, 0.00965345,\n",
       "        0.00225206, 0.0033579 , 0.00384099, 0.00399749, 0.00288297,\n",
       "        0.00257181, 0.00316793, 0.00348269, 0.00388176, 0.00286635,\n",
       "        0.00304769, 0.00230793, 0.00237486, 0.00237385, 0.00415202,\n",
       "        0.00311484, 0.00301696, 0.00267758, 0.00262763, 0.00255058,\n",
       "        0.00340723, 0.00797711, 0.00342858, 0.00279339, 0.00265065,\n",
       "        0.00207041, 0.00228135, 0.00879638, 0.00237506, 0.00293963,\n",
       "        0.0030676 , 0.00235326, 0.00486938, 0.00223075, 0.00374851,\n",
       "        0.0027128 , 0.00206611, 0.00221752, 0.00300093, 0.00234174,\n",
       "        0.00338135, 0.00261155, 0.00205796, 0.0020064 , 0.00233236,\n",
       "        0.00239898, 0.00325285, 0.00310435, 0.00274343, 0.00424681],\n",
       "       [0.01747921, 0.003149  , 0.00665818, 0.00445175, 0.00277314,\n",
       "        0.0049105 , 0.00344368, 0.00615893, 0.00626731, 0.00551068,\n",
       "        0.00572493, 0.00394314, 0.00362948, 0.00735494, 0.00410522,\n",
       "        0.01336814, 0.0098626 , 0.00469489, 0.0059289 , 0.00246475,\n",
       "        0.00413206, 0.00483047, 0.00588466, 0.00402587, 0.00262026,\n",
       "        0.00682373, 0.00383301, 0.00335858, 0.00358783, 0.00864138,\n",
       "        0.00309658, 0.0045795 , 0.00976456, 0.0070263 , 0.00222787,\n",
       "        0.00375665, 0.00536659, 0.005214  , 0.00846629, 0.00258064,\n",
       "        0.00305643, 0.00668726, 0.00419219, 0.0050413 , 0.00362298,\n",
       "        0.00254187, 0.00394036, 0.0046618 , 0.00475851, 0.01062819,\n",
       "        0.00247971, 0.00313338, 0.00533196, 0.00914905, 0.00631789,\n",
       "        0.00551139, 0.00444924, 0.00487736, 0.0029067 , 0.00438403,\n",
       "        0.00659282, 0.00474455, 0.00597586, 0.00344425, 0.0033396 ,\n",
       "        0.00418668, 0.00278114, 0.00948224, 0.00428892, 0.00406558,\n",
       "        0.01012116, 0.00720145, 0.00614854, 0.00370534, 0.0054921 ,\n",
       "        0.00225847, 0.00332826, 0.00271134, 0.0040035 , 0.00301302,\n",
       "        0.00432062, 0.00490053, 0.00315772, 0.00499486, 0.00364282,\n",
       "        0.00381532, 0.00493438, 0.00255183, 0.00256744, 0.01444188,\n",
       "        0.00537887, 0.00475538, 0.00287413, 0.00487054, 0.00398523,\n",
       "        0.0061596 , 0.00321538, 0.00323873, 0.00434692, 0.00295235,\n",
       "        0.00428825, 0.0037008 , 0.00490648, 0.00331221, 0.00393847,\n",
       "        0.00419805, 0.00606987, 0.00277963, 0.00396289, 0.00530777,\n",
       "        0.00549389, 0.00454741, 0.00493089, 0.00271707, 0.00451445,\n",
       "        0.00379793, 0.00400514, 0.00365073, 0.00395356, 0.00478438,\n",
       "        0.00290716, 0.00501246, 0.00672857, 0.01112208, 0.00240736,\n",
       "        0.00213431, 0.00226436, 0.00198762, 0.0024512 , 0.00301724,\n",
       "        0.00416952, 0.00592109, 0.00313756, 0.00303798, 0.00320014,\n",
       "        0.00197732, 0.00303904, 0.00334453, 0.00525732, 0.01011862,\n",
       "        0.00257415, 0.00311671, 0.00359264, 0.00302519, 0.00265856,\n",
       "        0.00225421, 0.00781501, 0.00529932, 0.00355378, 0.01532609,\n",
       "        0.0024749 , 0.00267737, 0.00243922, 0.00205002, 0.00270567,\n",
       "        0.00501692, 0.00314292, 0.00315266, 0.00297578, 0.00575552,\n",
       "        0.00444034, 0.00309098, 0.01412779, 0.00269565, 0.00334498,\n",
       "        0.00346609, 0.00569578, 0.0024129 , 0.00495535, 0.00734826,\n",
       "        0.00210915, 0.00255466, 0.00262962, 0.00419264, 0.00391411,\n",
       "        0.00631228, 0.00249582, 0.00245352, 0.00304376, 0.00404492,\n",
       "        0.00514812, 0.00234364, 0.00247126, 0.00378967, 0.00362454,\n",
       "        0.00401316, 0.00292558, 0.00347308, 0.00268953, 0.00310938,\n",
       "        0.00421496, 0.00627139, 0.00582301, 0.0038487 , 0.00217385,\n",
       "        0.00396951, 0.01550146, 0.0021102 , 0.0023503 , 0.00239422,\n",
       "        0.00248356, 0.00845963, 0.00787547, 0.00344393, 0.00798425,\n",
       "        0.00512854, 0.00266168, 0.00324656, 0.00241189, 0.00248165,\n",
       "        0.0029612 , 0.00279872, 0.00315911, 0.00275411, 0.00207883,\n",
       "        0.00213323, 0.0043918 , 0.00325693, 0.00370147, 0.00626761,\n",
       "        0.00294134, 0.00440184, 0.00468524, 0.0035712 , 0.00403321,\n",
       "        0.00229671, 0.00359787, 0.00385027, 0.00369914, 0.00228786,\n",
       "        0.00282803, 0.0076875 , 0.00814865, 0.00355084, 0.00727248,\n",
       "        0.00516284, 0.00474157, 0.0049282 , 0.00401831, 0.00284239,\n",
       "        0.00623375, 0.00241037, 0.00227897, 0.00282019, 0.00331511,\n",
       "        0.00234653, 0.00268588, 0.00753174, 0.00563658, 0.00230365,\n",
       "        0.00313138, 0.00913292, 0.0038216 , 0.00308551, 0.00283535,\n",
       "        0.00208087, 0.00294055, 0.00427436, 0.00514047, 0.00258503,\n",
       "        0.00236043, 0.00245428, 0.00258377, 0.00257142, 0.00356173,\n",
       "        0.00396987, 0.00222259, 0.00338234, 0.00259872, 0.00417808,\n",
       "        0.00298111, 0.00301079, 0.00208408, 0.00397323, 0.00339934,\n",
       "        0.0021185 , 0.00262996, 0.00222498, 0.00285839, 0.00505179,\n",
       "        0.00306654, 0.00284447, 0.00235969, 0.00305542, 0.00292766,\n",
       "        0.00577492, 0.00321496, 0.00257659, 0.00397603, 0.00370169,\n",
       "        0.00370707, 0.00327793, 0.00267747, 0.00258026, 0.00421358,\n",
       "        0.00456073, 0.00455384, 0.00298757, 0.0027758 , 0.00199127,\n",
       "        0.00324747, 0.00320181, 0.00352692, 0.00245986, 0.00221964,\n",
       "        0.00406965, 0.00926357, 0.00286243, 0.0042846 , 0.00336176,\n",
       "        0.00236156, 0.00384879, 0.00255609, 0.00363589, 0.00234412,\n",
       "        0.00215646, 0.00332907, 0.00306895, 0.00352168, 0.00249561,\n",
       "        0.00517556, 0.00249257, 0.00320749, 0.00461244, 0.00349625,\n",
       "        0.00250518, 0.00226561, 0.00388689, 0.00462729, 0.00837351,\n",
       "        0.00253603, 0.00333829, 0.00496637, 0.00234193, 0.00257648,\n",
       "        0.00243151, 0.00242493, 0.00230832, 0.00528931, 0.00250796,\n",
       "        0.00346334, 0.00263622, 0.00373791, 0.00226923, 0.0026241 ,\n",
       "        0.00351849, 0.0070116 , 0.0050644 , 0.00527662, 0.00293875,\n",
       "        0.00478756, 0.00592947, 0.00253817, 0.00307963, 0.00290879,\n",
       "        0.00425765, 0.00393496, 0.00549538, 0.00184843, 0.00520788,\n",
       "        0.00257715, 0.00245888, 0.00311078, 0.0029086 , 0.00398529,\n",
       "        0.00410465, 0.00250464, 0.00294594, 0.00247506, 0.00224229,\n",
       "        0.00229623, 0.00289988, 0.00310609, 0.00199163, 0.00228652,\n",
       "        0.00222713, 0.00244704, 0.00283685, 0.00539376, 0.00597554,\n",
       "        0.00331082, 0.00481643, 0.00519567, 0.00391756, 0.00228653,\n",
       "        0.00326765, 0.01051501, 0.00349837, 0.00255222, 0.00358748,\n",
       "        0.00245059, 0.00201998, 0.00289415, 0.00220353, 0.00381528,\n",
       "        0.00567109, 0.00282105, 0.00337519, 0.0032133 , 0.00261121,\n",
       "        0.0023487 , 0.004478  , 0.00284778, 0.00272546, 0.0024159 ,\n",
       "        0.00276184, 0.00251955, 0.00306688, 0.00241052, 0.00306265,\n",
       "        0.00217866, 0.00268165, 0.0032772 , 0.00195395, 0.00323815,\n",
       "        0.00592063, 0.00300481, 0.00238499, 0.00243632, 0.00230245,\n",
       "        0.00275134, 0.00301129, 0.00247879, 0.00362459, 0.00217199,\n",
       "        0.00239395, 0.00339346, 0.00241113, 0.00262326, 0.00325854,\n",
       "        0.00241857, 0.00311743, 0.00307603, 0.00290225, 0.00609457,\n",
       "        0.00295473, 0.00248085, 0.00272757, 0.00209625, 0.00249452,\n",
       "        0.00351202, 0.00403283, 0.00351833, 0.00358961, 0.00708107,\n",
       "        0.00271782, 0.00265597, 0.00355131, 0.00379091, 0.00965345,\n",
       "        0.00225206, 0.0033579 , 0.00384099, 0.00399749, 0.00288297,\n",
       "        0.00257181, 0.00316793, 0.00348269, 0.00388176, 0.00286635,\n",
       "        0.00304769, 0.00230793, 0.00237486, 0.00237385, 0.00415202,\n",
       "        0.00311484, 0.00301696, 0.00267758, 0.00262763, 0.00255058,\n",
       "        0.00340723, 0.00797711, 0.00342858, 0.00279339, 0.00265065,\n",
       "        0.00207041, 0.00228135, 0.00879638, 0.00237506, 0.00293963,\n",
       "        0.0030676 , 0.00235326, 0.00486938, 0.00223075, 0.00374851,\n",
       "        0.0027128 , 0.00206611, 0.00221752, 0.00300093, 0.00234174,\n",
       "        0.00338135, 0.00261155, 0.00205796, 0.0020064 , 0.00233236,\n",
       "        0.00239898, 0.00325285, 0.00310435, 0.00274343, 0.00424681],\n",
       "       [0.01747921, 0.003149  , 0.00665818, 0.00445175, 0.00277314,\n",
       "        0.0049105 , 0.00344368, 0.00615893, 0.00626731, 0.00551068,\n",
       "        0.00572493, 0.00394314, 0.00362948, 0.00735494, 0.00410522,\n",
       "        0.01336814, 0.0098626 , 0.00469489, 0.0059289 , 0.00246475,\n",
       "        0.00413206, 0.00483047, 0.00588466, 0.00402587, 0.00262026,\n",
       "        0.00682373, 0.00383301, 0.00335858, 0.00358783, 0.00864138,\n",
       "        0.00309658, 0.0045795 , 0.00976456, 0.0070263 , 0.00222787,\n",
       "        0.00375665, 0.00536659, 0.005214  , 0.00846629, 0.00258064,\n",
       "        0.00305643, 0.00668726, 0.00419219, 0.0050413 , 0.00362298,\n",
       "        0.00254187, 0.00394036, 0.0046618 , 0.00475851, 0.01062819,\n",
       "        0.00247971, 0.00313338, 0.00533196, 0.00914905, 0.00631789,\n",
       "        0.00551139, 0.00444924, 0.00487736, 0.0029067 , 0.00438403,\n",
       "        0.00659282, 0.00474455, 0.00597586, 0.00344425, 0.0033396 ,\n",
       "        0.00418668, 0.00278114, 0.00948224, 0.00428892, 0.00406558,\n",
       "        0.01012116, 0.00720145, 0.00614854, 0.00370534, 0.0054921 ,\n",
       "        0.00225847, 0.00332826, 0.00271134, 0.0040035 , 0.00301302,\n",
       "        0.00432062, 0.00490053, 0.00315772, 0.00499486, 0.00364282,\n",
       "        0.00381532, 0.00493438, 0.00255183, 0.00256744, 0.01444188,\n",
       "        0.00537887, 0.00475538, 0.00287413, 0.00487054, 0.00398523,\n",
       "        0.0061596 , 0.00321538, 0.00323873, 0.00434692, 0.00295235,\n",
       "        0.00428825, 0.0037008 , 0.00490648, 0.00331221, 0.00393847,\n",
       "        0.00419805, 0.00606987, 0.00277963, 0.00396289, 0.00530777,\n",
       "        0.00549389, 0.00454741, 0.00493089, 0.00271707, 0.00451445,\n",
       "        0.00379793, 0.00400514, 0.00365073, 0.00395356, 0.00478438,\n",
       "        0.00290716, 0.00501246, 0.00672857, 0.01112208, 0.00240736,\n",
       "        0.00213431, 0.00226436, 0.00198762, 0.0024512 , 0.00301724,\n",
       "        0.00416952, 0.00592109, 0.00313756, 0.00303798, 0.00320014,\n",
       "        0.00197732, 0.00303904, 0.00334453, 0.00525732, 0.01011862,\n",
       "        0.00257415, 0.00311671, 0.00359264, 0.00302519, 0.00265856,\n",
       "        0.00225421, 0.00781501, 0.00529932, 0.00355378, 0.01532609,\n",
       "        0.0024749 , 0.00267737, 0.00243922, 0.00205002, 0.00270567,\n",
       "        0.00501692, 0.00314292, 0.00315266, 0.00297578, 0.00575552,\n",
       "        0.00444034, 0.00309098, 0.01412779, 0.00269565, 0.00334498,\n",
       "        0.00346609, 0.00569578, 0.0024129 , 0.00495535, 0.00734826,\n",
       "        0.00210915, 0.00255466, 0.00262962, 0.00419264, 0.00391411,\n",
       "        0.00631228, 0.00249582, 0.00245352, 0.00304376, 0.00404492,\n",
       "        0.00514812, 0.00234364, 0.00247126, 0.00378967, 0.00362454,\n",
       "        0.00401316, 0.00292558, 0.00347308, 0.00268953, 0.00310938,\n",
       "        0.00421496, 0.00627139, 0.00582301, 0.0038487 , 0.00217385,\n",
       "        0.00396951, 0.01550146, 0.0021102 , 0.0023503 , 0.00239422,\n",
       "        0.00248356, 0.00845963, 0.00787547, 0.00344393, 0.00798425,\n",
       "        0.00512854, 0.00266168, 0.00324656, 0.00241189, 0.00248165,\n",
       "        0.0029612 , 0.00279872, 0.00315911, 0.00275411, 0.00207883,\n",
       "        0.00213323, 0.0043918 , 0.00325693, 0.00370147, 0.00626761,\n",
       "        0.00294134, 0.00440184, 0.00468524, 0.0035712 , 0.00403321,\n",
       "        0.00229671, 0.00359787, 0.00385027, 0.00369914, 0.00228786,\n",
       "        0.00282803, 0.0076875 , 0.00814865, 0.00355084, 0.00727248,\n",
       "        0.00516284, 0.00474157, 0.0049282 , 0.00401831, 0.00284239,\n",
       "        0.00623375, 0.00241037, 0.00227897, 0.00282019, 0.00331511,\n",
       "        0.00234653, 0.00268588, 0.00753174, 0.00563658, 0.00230365,\n",
       "        0.00313138, 0.00913292, 0.0038216 , 0.00308551, 0.00283535,\n",
       "        0.00208087, 0.00294055, 0.00427436, 0.00514047, 0.00258503,\n",
       "        0.00236043, 0.00245428, 0.00258377, 0.00257142, 0.00356173,\n",
       "        0.00396987, 0.00222259, 0.00338234, 0.00259872, 0.00417808,\n",
       "        0.00298111, 0.00301079, 0.00208408, 0.00397323, 0.00339934,\n",
       "        0.0021185 , 0.00262996, 0.00222498, 0.00285839, 0.00505179,\n",
       "        0.00306654, 0.00284447, 0.00235969, 0.00305542, 0.00292766,\n",
       "        0.00577492, 0.00321496, 0.00257659, 0.00397603, 0.00370169,\n",
       "        0.00370707, 0.00327793, 0.00267747, 0.00258026, 0.00421358,\n",
       "        0.00456073, 0.00455384, 0.00298757, 0.0027758 , 0.00199127,\n",
       "        0.00324747, 0.00320181, 0.00352692, 0.00245986, 0.00221964,\n",
       "        0.00406965, 0.00926357, 0.00286243, 0.0042846 , 0.00336176,\n",
       "        0.00236156, 0.00384879, 0.00255609, 0.00363589, 0.00234412,\n",
       "        0.00215646, 0.00332907, 0.00306895, 0.00352168, 0.00249561,\n",
       "        0.00517556, 0.00249257, 0.00320749, 0.00461244, 0.00349625,\n",
       "        0.00250518, 0.00226561, 0.00388689, 0.00462729, 0.00837351,\n",
       "        0.00253603, 0.00333829, 0.00496637, 0.00234193, 0.00257648,\n",
       "        0.00243151, 0.00242493, 0.00230832, 0.00528931, 0.00250796,\n",
       "        0.00346334, 0.00263622, 0.00373791, 0.00226923, 0.0026241 ,\n",
       "        0.00351849, 0.0070116 , 0.0050644 , 0.00527662, 0.00293875,\n",
       "        0.00478756, 0.00592947, 0.00253817, 0.00307963, 0.00290879,\n",
       "        0.00425765, 0.00393496, 0.00549538, 0.00184843, 0.00520788,\n",
       "        0.00257715, 0.00245888, 0.00311078, 0.0029086 , 0.00398529,\n",
       "        0.00410465, 0.00250464, 0.00294594, 0.00247506, 0.00224229,\n",
       "        0.00229623, 0.00289988, 0.00310609, 0.00199163, 0.00228652,\n",
       "        0.00222713, 0.00244704, 0.00283685, 0.00539376, 0.00597554,\n",
       "        0.00331082, 0.00481643, 0.00519567, 0.00391756, 0.00228653,\n",
       "        0.00326765, 0.01051501, 0.00349837, 0.00255222, 0.00358748,\n",
       "        0.00245059, 0.00201998, 0.00289415, 0.00220353, 0.00381528,\n",
       "        0.00567109, 0.00282105, 0.00337519, 0.0032133 , 0.00261121,\n",
       "        0.0023487 , 0.004478  , 0.00284778, 0.00272546, 0.0024159 ,\n",
       "        0.00276184, 0.00251955, 0.00306688, 0.00241052, 0.00306265,\n",
       "        0.00217866, 0.00268165, 0.0032772 , 0.00195395, 0.00323815,\n",
       "        0.00592063, 0.00300481, 0.00238499, 0.00243632, 0.00230245,\n",
       "        0.00275134, 0.00301129, 0.00247879, 0.00362459, 0.00217199,\n",
       "        0.00239395, 0.00339346, 0.00241113, 0.00262326, 0.00325854,\n",
       "        0.00241857, 0.00311743, 0.00307603, 0.00290225, 0.00609457,\n",
       "        0.00295473, 0.00248085, 0.00272757, 0.00209625, 0.00249452,\n",
       "        0.00351202, 0.00403283, 0.00351833, 0.00358961, 0.00708107,\n",
       "        0.00271782, 0.00265597, 0.00355131, 0.00379091, 0.00965345,\n",
       "        0.00225206, 0.0033579 , 0.00384099, 0.00399749, 0.00288297,\n",
       "        0.00257181, 0.00316793, 0.00348269, 0.00388176, 0.00286635,\n",
       "        0.00304769, 0.00230793, 0.00237486, 0.00237385, 0.00415202,\n",
       "        0.00311484, 0.00301696, 0.00267758, 0.00262763, 0.00255058,\n",
       "        0.00340723, 0.00797711, 0.00342858, 0.00279339, 0.00265065,\n",
       "        0.00207041, 0.00228135, 0.00879638, 0.00237506, 0.00293963,\n",
       "        0.0030676 , 0.00235326, 0.00486938, 0.00223075, 0.00374851,\n",
       "        0.0027128 , 0.00206611, 0.00221752, 0.00300093, 0.00234174,\n",
       "        0.00338135, 0.00261155, 0.00205796, 0.0020064 , 0.00233236,\n",
       "        0.00239898, 0.00325285, 0.00310435, 0.00274343, 0.00424681],\n",
       "       [0.01747921, 0.003149  , 0.00665818, 0.00445175, 0.00277314,\n",
       "        0.0049105 , 0.00344368, 0.00615893, 0.00626731, 0.00551068,\n",
       "        0.00572493, 0.00394314, 0.00362948, 0.00735494, 0.00410522,\n",
       "        0.01336814, 0.0098626 , 0.00469489, 0.0059289 , 0.00246475,\n",
       "        0.00413206, 0.00483047, 0.00588466, 0.00402587, 0.00262026,\n",
       "        0.00682373, 0.00383301, 0.00335858, 0.00358783, 0.00864138,\n",
       "        0.00309658, 0.0045795 , 0.00976456, 0.0070263 , 0.00222787,\n",
       "        0.00375665, 0.00536659, 0.005214  , 0.00846629, 0.00258064,\n",
       "        0.00305643, 0.00668726, 0.00419219, 0.0050413 , 0.00362298,\n",
       "        0.00254187, 0.00394036, 0.0046618 , 0.00475851, 0.01062819,\n",
       "        0.00247971, 0.00313338, 0.00533196, 0.00914905, 0.00631789,\n",
       "        0.00551139, 0.00444924, 0.00487736, 0.0029067 , 0.00438403,\n",
       "        0.00659282, 0.00474455, 0.00597586, 0.00344425, 0.0033396 ,\n",
       "        0.00418668, 0.00278114, 0.00948224, 0.00428892, 0.00406558,\n",
       "        0.01012116, 0.00720145, 0.00614854, 0.00370534, 0.0054921 ,\n",
       "        0.00225847, 0.00332826, 0.00271134, 0.0040035 , 0.00301302,\n",
       "        0.00432062, 0.00490053, 0.00315772, 0.00499486, 0.00364282,\n",
       "        0.00381532, 0.00493438, 0.00255183, 0.00256744, 0.01444188,\n",
       "        0.00537887, 0.00475538, 0.00287413, 0.00487054, 0.00398523,\n",
       "        0.0061596 , 0.00321538, 0.00323873, 0.00434692, 0.00295235,\n",
       "        0.00428825, 0.0037008 , 0.00490648, 0.00331221, 0.00393847,\n",
       "        0.00419805, 0.00606987, 0.00277963, 0.00396289, 0.00530777,\n",
       "        0.00549389, 0.00454741, 0.00493089, 0.00271707, 0.00451445,\n",
       "        0.00379793, 0.00400514, 0.00365073, 0.00395356, 0.00478438,\n",
       "        0.00290716, 0.00501246, 0.00672857, 0.01112208, 0.00240736,\n",
       "        0.00213431, 0.00226436, 0.00198762, 0.0024512 , 0.00301724,\n",
       "        0.00416952, 0.00592109, 0.00313756, 0.00303798, 0.00320014,\n",
       "        0.00197732, 0.00303904, 0.00334453, 0.00525732, 0.01011862,\n",
       "        0.00257415, 0.00311671, 0.00359264, 0.00302519, 0.00265856,\n",
       "        0.00225421, 0.00781501, 0.00529932, 0.00355378, 0.01532609,\n",
       "        0.0024749 , 0.00267737, 0.00243922, 0.00205002, 0.00270567,\n",
       "        0.00501692, 0.00314292, 0.00315266, 0.00297578, 0.00575552,\n",
       "        0.00444034, 0.00309098, 0.01412779, 0.00269565, 0.00334498,\n",
       "        0.00346609, 0.00569578, 0.0024129 , 0.00495535, 0.00734826,\n",
       "        0.00210915, 0.00255466, 0.00262962, 0.00419264, 0.00391411,\n",
       "        0.00631228, 0.00249582, 0.00245352, 0.00304376, 0.00404492,\n",
       "        0.00514812, 0.00234364, 0.00247126, 0.00378967, 0.00362454,\n",
       "        0.00401316, 0.00292558, 0.00347308, 0.00268953, 0.00310938,\n",
       "        0.00421496, 0.00627139, 0.00582301, 0.0038487 , 0.00217385,\n",
       "        0.00396951, 0.01550146, 0.0021102 , 0.0023503 , 0.00239422,\n",
       "        0.00248356, 0.00845963, 0.00787547, 0.00344393, 0.00798425,\n",
       "        0.00512854, 0.00266168, 0.00324656, 0.00241189, 0.00248165,\n",
       "        0.0029612 , 0.00279872, 0.00315911, 0.00275411, 0.00207883,\n",
       "        0.00213323, 0.0043918 , 0.00325693, 0.00370147, 0.00626761,\n",
       "        0.00294134, 0.00440184, 0.00468524, 0.0035712 , 0.00403321,\n",
       "        0.00229671, 0.00359787, 0.00385027, 0.00369914, 0.00228786,\n",
       "        0.00282803, 0.0076875 , 0.00814865, 0.00355084, 0.00727248,\n",
       "        0.00516284, 0.00474157, 0.0049282 , 0.00401831, 0.00284239,\n",
       "        0.00623375, 0.00241037, 0.00227897, 0.00282019, 0.00331511,\n",
       "        0.00234653, 0.00268588, 0.00753174, 0.00563658, 0.00230365,\n",
       "        0.00313138, 0.00913292, 0.0038216 , 0.00308551, 0.00283535,\n",
       "        0.00208087, 0.00294055, 0.00427436, 0.00514047, 0.00258503,\n",
       "        0.00236043, 0.00245428, 0.00258377, 0.00257142, 0.00356173,\n",
       "        0.00396987, 0.00222259, 0.00338234, 0.00259872, 0.00417808,\n",
       "        0.00298111, 0.00301079, 0.00208408, 0.00397323, 0.00339934,\n",
       "        0.0021185 , 0.00262996, 0.00222498, 0.00285839, 0.00505179,\n",
       "        0.00306654, 0.00284447, 0.00235969, 0.00305542, 0.00292766,\n",
       "        0.00577492, 0.00321496, 0.00257659, 0.00397603, 0.00370169,\n",
       "        0.00370707, 0.00327793, 0.00267747, 0.00258026, 0.00421358,\n",
       "        0.00456073, 0.00455384, 0.00298757, 0.0027758 , 0.00199127,\n",
       "        0.00324747, 0.00320181, 0.00352692, 0.00245986, 0.00221964,\n",
       "        0.00406965, 0.00926357, 0.00286243, 0.0042846 , 0.00336176,\n",
       "        0.00236156, 0.00384879, 0.00255609, 0.00363589, 0.00234412,\n",
       "        0.00215646, 0.00332907, 0.00306895, 0.00352168, 0.00249561,\n",
       "        0.00517556, 0.00249257, 0.00320749, 0.00461244, 0.00349625,\n",
       "        0.00250518, 0.00226561, 0.00388689, 0.00462729, 0.00837351,\n",
       "        0.00253603, 0.00333829, 0.00496637, 0.00234193, 0.00257648,\n",
       "        0.00243151, 0.00242493, 0.00230832, 0.00528931, 0.00250796,\n",
       "        0.00346334, 0.00263622, 0.00373791, 0.00226923, 0.0026241 ,\n",
       "        0.00351849, 0.0070116 , 0.0050644 , 0.00527662, 0.00293875,\n",
       "        0.00478756, 0.00592947, 0.00253817, 0.00307963, 0.00290879,\n",
       "        0.00425765, 0.00393496, 0.00549538, 0.00184843, 0.00520788,\n",
       "        0.00257715, 0.00245888, 0.00311078, 0.0029086 , 0.00398529,\n",
       "        0.00410465, 0.00250464, 0.00294594, 0.00247506, 0.00224229,\n",
       "        0.00229623, 0.00289988, 0.00310609, 0.00199163, 0.00228652,\n",
       "        0.00222713, 0.00244704, 0.00283685, 0.00539376, 0.00597554,\n",
       "        0.00331082, 0.00481643, 0.00519567, 0.00391756, 0.00228653,\n",
       "        0.00326765, 0.01051501, 0.00349837, 0.00255222, 0.00358748,\n",
       "        0.00245059, 0.00201998, 0.00289415, 0.00220353, 0.00381528,\n",
       "        0.00567109, 0.00282105, 0.00337519, 0.0032133 , 0.00261121,\n",
       "        0.0023487 , 0.004478  , 0.00284778, 0.00272546, 0.0024159 ,\n",
       "        0.00276184, 0.00251955, 0.00306688, 0.00241052, 0.00306265,\n",
       "        0.00217866, 0.00268165, 0.0032772 , 0.00195395, 0.00323815,\n",
       "        0.00592063, 0.00300481, 0.00238499, 0.00243632, 0.00230245,\n",
       "        0.00275134, 0.00301129, 0.00247879, 0.00362459, 0.00217199,\n",
       "        0.00239395, 0.00339346, 0.00241113, 0.00262326, 0.00325854,\n",
       "        0.00241857, 0.00311743, 0.00307603, 0.00290225, 0.00609457,\n",
       "        0.00295473, 0.00248085, 0.00272757, 0.00209625, 0.00249452,\n",
       "        0.00351202, 0.00403283, 0.00351833, 0.00358961, 0.00708107,\n",
       "        0.00271782, 0.00265597, 0.00355131, 0.00379091, 0.00965345,\n",
       "        0.00225206, 0.0033579 , 0.00384099, 0.00399749, 0.00288297,\n",
       "        0.00257181, 0.00316793, 0.00348269, 0.00388176, 0.00286635,\n",
       "        0.00304769, 0.00230793, 0.00237486, 0.00237385, 0.00415202,\n",
       "        0.00311484, 0.00301696, 0.00267758, 0.00262763, 0.00255058,\n",
       "        0.00340723, 0.00797711, 0.00342858, 0.00279339, 0.00265065,\n",
       "        0.00207041, 0.00228135, 0.00879638, 0.00237506, 0.00293963,\n",
       "        0.0030676 , 0.00235326, 0.00486938, 0.00223075, 0.00374851,\n",
       "        0.0027128 , 0.00206611, 0.00221752, 0.00300093, 0.00234174,\n",
       "        0.00338135, 0.00261155, 0.00205796, 0.0020064 , 0.00233236,\n",
       "        0.00239898, 0.00325285, 0.00310435, 0.00274343, 0.00424681]],\n",
       "      dtype=float32)"
      ]
     },
     "execution_count": 176,
     "metadata": {},
     "output_type": "execute_result"
    }
   ],
   "source": [
    "features[1:5]"
   ]
  },
  {
   "cell_type": "code",
   "execution_count": 84,
   "metadata": {},
   "outputs": [
    {
     "data": {
      "text/plain": [
       "0.007118052168020881"
      ]
     },
     "execution_count": 84,
     "metadata": {},
     "output_type": "execute_result"
    }
   ],
   "source": [
    "l = [0.787, 0.785, 0.771]\n",
    "np.std(l)"
   ]
  },
  {
   "cell_type": "code",
   "execution_count": 85,
   "metadata": {},
   "outputs": [
    {
     "data": {
      "text/plain": [
       "0.781"
      ]
     },
     "execution_count": 85,
     "metadata": {},
     "output_type": "execute_result"
    }
   ],
   "source": [
    "np.mean(l)"
   ]
  },
  {
   "cell_type": "code",
   "execution_count": null,
   "metadata": {},
   "outputs": [],
   "source": []
  }
 ],
 "metadata": {
  "kernelspec": {
   "display_name": "Python 3 (ipykernel)",
   "language": "python",
   "name": "python3"
  },
  "language_info": {
   "codemirror_mode": {
    "name": "ipython",
    "version": 3
   },
   "file_extension": ".py",
   "mimetype": "text/x-python",
   "name": "python",
   "nbconvert_exporter": "python",
   "pygments_lexer": "ipython3",
   "version": "3.9.13"
  },
  "vscode": {
   "interpreter": {
    "hash": "2e7b7b5e1a181dd957b9f7885452852dc79e790ae39cec452ad265aa1fdb9dc8"
   }
  }
 },
 "nbformat": 4,
 "nbformat_minor": 2
}
